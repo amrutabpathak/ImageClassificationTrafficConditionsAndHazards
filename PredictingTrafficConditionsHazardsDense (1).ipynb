{
 "cells": [
  {
   "cell_type": "code",
   "execution_count": 1,
   "metadata": {},
   "outputs": [
    {
     "name": "stderr",
     "output_type": "stream",
     "text": [
      "Using TensorFlow backend.\n"
     ]
    },
    {
     "data": {
      "text/plain": [
       "'2.3.0'"
      ]
     },
     "execution_count": 1,
     "metadata": {},
     "output_type": "execute_result"
    }
   ],
   "source": [
    "import keras\n",
    "keras.__version__"
   ]
  },
  {
   "cell_type": "markdown",
   "metadata": {},
   "source": [
    "# Classifying traffic conditions or hazards: a multi-class classification example\n"
   ]
  },
  {
   "cell_type": "code",
   "execution_count": 5,
   "metadata": {},
   "outputs": [],
   "source": [
    "import os, shutil, random"
   ]
  },
  {
   "cell_type": "code",
   "execution_count": 6,
   "metadata": {},
   "outputs": [],
   "source": [
    "# The path to the directory where the original\n",
    "# dataset was uncompressed\n",
    "original_dataset_dir = r'./trafficnet_dataset_v1'\n",
    "\n",
    "\n",
    "train_dir = os.path.join(original_dataset_dir, 'train')\n",
    "validation_dir = os.path.join(original_dataset_dir, 'validation')\n",
    "test_dir = os.path.join(original_dataset_dir, 'test')\n",
    "\n",
    "\n",
    "accident_train_dir = os.path.join(train_dir, 'accident')\n",
    "dense_traffic_train_dir = os.path.join(train_dir, 'dense_traffic')\n",
    "fire_train_dir = os.path.join(train_dir, 'fire')\n",
    "sparse_traffic_train_dir = os.path.join(train_dir, 'sparse_traffic')\n",
    "\n",
    "accident_test_dir = os.path.join(test_dir, 'accident')\n",
    "dense_traffic_test_dir = os.path.join(test_dir, 'dense_traffic')\n",
    "fire_test_dir = os.path.join(test_dir, 'fire')\n",
    "sparse_traffic_test_dir = os.path.join(test_dir, 'sparse_traffic')"
   ]
  },
  {
   "cell_type": "code",
   "execution_count": 5,
   "metadata": {},
   "outputs": [],
   "source": [
    "\n",
    "os.mkdir(validation_dir)\n",
    "# Directory with our validation accident pictures\n",
    "validation_accident_dir = os.path.join(validation_dir, 'accident')\n",
    "os.mkdir(validation_accident_dir)\n",
    "validation_dense_traffic_dir = os.path.join(validation_dir, 'dense_traffic')\n",
    "os.mkdir(validation_dense_traffic_dir)\n",
    "validation_fire_dir = os.path.join(validation_dir, 'fire')\n",
    "os.mkdir(validation_fire_dir)\n",
    "validation_sparse_traffic_dir = os.path.join(validation_dir, 'sparse_traffic')\n",
    "os.mkdir(validation_sparse_traffic_dir)\n",
    "\n"
   ]
  },
  {
   "cell_type": "code",
   "execution_count": 7,
   "metadata": {
    "scrolled": true
   },
   "outputs": [
    {
     "ename": "FileNotFoundError",
     "evalue": "[WinError 3] The system cannot find the path specified: './trafficnet_dataset_v1\\\\train\\\\accident'",
     "output_type": "error",
     "traceback": [
      "\u001b[1;31m---------------------------------------------------------------------------\u001b[0m",
      "\u001b[1;31mFileNotFoundError\u001b[0m                         Traceback (most recent call last)",
      "\u001b[1;32m<ipython-input-7-a7c15812ffb4>\u001b[0m in \u001b[0;36m<module>\u001b[1;34m\u001b[0m\n\u001b[1;32m----> 1\u001b[1;33m \u001b[0mprint\u001b[0m\u001b[1;33m(\u001b[0m\u001b[1;34m'total training accident images:'\u001b[0m\u001b[1;33m,\u001b[0m \u001b[0mlen\u001b[0m\u001b[1;33m(\u001b[0m\u001b[0mos\u001b[0m\u001b[1;33m.\u001b[0m\u001b[0mlistdir\u001b[0m\u001b[1;33m(\u001b[0m\u001b[0maccident_train_dir\u001b[0m\u001b[1;33m)\u001b[0m\u001b[1;33m)\u001b[0m\u001b[1;33m)\u001b[0m\u001b[1;33m\u001b[0m\u001b[1;33m\u001b[0m\u001b[0m\n\u001b[0m\u001b[0;32m      2\u001b[0m \u001b[0mprint\u001b[0m\u001b[1;33m(\u001b[0m\u001b[1;34m'total training dense traffic images:'\u001b[0m\u001b[1;33m,\u001b[0m \u001b[0mlen\u001b[0m\u001b[1;33m(\u001b[0m\u001b[0mos\u001b[0m\u001b[1;33m.\u001b[0m\u001b[0mlistdir\u001b[0m\u001b[1;33m(\u001b[0m\u001b[0mdense_traffic_train_dir\u001b[0m\u001b[1;33m)\u001b[0m\u001b[1;33m)\u001b[0m\u001b[1;33m)\u001b[0m\u001b[1;33m\u001b[0m\u001b[1;33m\u001b[0m\u001b[0m\n\u001b[0;32m      3\u001b[0m \u001b[0mprint\u001b[0m\u001b[1;33m(\u001b[0m\u001b[1;34m'total training fire images:'\u001b[0m\u001b[1;33m,\u001b[0m \u001b[0mlen\u001b[0m\u001b[1;33m(\u001b[0m\u001b[0mos\u001b[0m\u001b[1;33m.\u001b[0m\u001b[0mlistdir\u001b[0m\u001b[1;33m(\u001b[0m\u001b[0mfire_train_dir\u001b[0m\u001b[1;33m)\u001b[0m\u001b[1;33m)\u001b[0m\u001b[1;33m)\u001b[0m\u001b[1;33m\u001b[0m\u001b[1;33m\u001b[0m\u001b[0m\n\u001b[0;32m      4\u001b[0m \u001b[0mprint\u001b[0m\u001b[1;33m(\u001b[0m\u001b[1;34m'total training sparse traffic images:'\u001b[0m\u001b[1;33m,\u001b[0m \u001b[0mlen\u001b[0m\u001b[1;33m(\u001b[0m\u001b[0mos\u001b[0m\u001b[1;33m.\u001b[0m\u001b[0mlistdir\u001b[0m\u001b[1;33m(\u001b[0m\u001b[0msparse_traffic_train_dir\u001b[0m\u001b[1;33m)\u001b[0m\u001b[1;33m)\u001b[0m\u001b[1;33m)\u001b[0m\u001b[1;33m\u001b[0m\u001b[1;33m\u001b[0m\u001b[0m\n\u001b[0;32m      5\u001b[0m \u001b[0mprint\u001b[0m\u001b[1;33m(\u001b[0m\u001b[1;34m\"\\n\"\u001b[0m\u001b[1;33m)\u001b[0m\u001b[1;33m\u001b[0m\u001b[1;33m\u001b[0m\u001b[0m\n",
      "\u001b[1;31mFileNotFoundError\u001b[0m: [WinError 3] The system cannot find the path specified: './trafficnet_dataset_v1\\\\train\\\\accident'"
     ]
    }
   ],
   "source": [
    "print('total training accident images:', len(os.listdir(accident_train_dir)))\n",
    "print('total training dense traffic images:', len(os.listdir(dense_traffic_train_dir)))\n",
    "print('total training fire images:', len(os.listdir(fire_train_dir)))\n",
    "print('total training sparse traffic images:', len(os.listdir(sparse_traffic_train_dir)))\n",
    "print(\"\\n\")\n",
    "print('total test accident images:', len(os.listdir(accident_test_dir)))\n",
    "print('total test dense traffic images:', len(os.listdir(dense_traffic_test_dir)))\n",
    "print('total test fire images:', len(os.listdir(fire_test_dir)))\n",
    "print('total test sparse traffic images:', len(os.listdir(sparse_traffic_test_dir)))"
   ]
  },
  {
   "cell_type": "code",
   "execution_count": 7,
   "metadata": {},
   "outputs": [
    {
     "name": "stdout",
     "output_type": "stream",
     "text": [
      "validation_accident_len 180\n",
      "validation_dense_traffic_len 180\n",
      "validation_fire_len 180\n",
      "validation_sparse_traffic_len 180\n"
     ]
    }
   ],
   "source": [
    "#Taking a 80:20 split of training and validation data\n",
    "\n",
    "validation_accident_len = int(len(os.listdir(accident_train_dir)) * 0.2)\n",
    "print('validation_accident_len', validation_accident_len)\n",
    "\n",
    "validation_dense_traffic_len = int(len(os.listdir(dense_traffic_train_dir)) * 0.2)\n",
    "print('validation_dense_traffic_len', validation_dense_traffic_len)\n",
    "validation_fire_len = int(len(os.listdir(fire_train_dir)) * 0.2)\n",
    "print('validation_fire_len', validation_fire_len)\n",
    "validation_sparse_traffic_len = int(len(os.listdir(sparse_traffic_train_dir)) * 0.2)\n",
    "print('validation_sparse_traffic_len', validation_sparse_traffic_len)\n",
    "\n",
    "\n"
   ]
  },
  {
   "cell_type": "code",
   "execution_count": 8,
   "metadata": {},
   "outputs": [],
   "source": [
    "# Adding images to validation directory\n",
    "training_accident_files = os.listdir(accident_train_dir)\n",
    "training_dense_traffic_files = os.listdir(dense_traffic_train_dir)\n",
    "training_fire_files = os.listdir(fire_train_dir)\n",
    "training_sparse_traffic_files = os.listdir(sparse_traffic_train_dir)\n",
    "#print( random.sample(training_accident_files,validation_accident_len ))\n",
    "\n",
    "\n",
    "for accident_img_file in random.sample(training_accident_files,validation_accident_len ):\n",
    "    srcFile = os.path.join(accident_train_dir,  accident_img_file)\n",
    "    shutil.move(srcFile,validation_accident_dir )\n",
    "    \n",
    "for dense_traffic_img_file in random.sample(training_dense_traffic_files,validation_dense_traffic_len ):\n",
    "    srcFile = os.path.join(dense_traffic_train_dir,  dense_traffic_img_file)\n",
    "    shutil.move(srcFile,validation_dense_traffic_dir )\n",
    "    \n",
    "for fire_img_file in random.sample(training_fire_files,validation_fire_len ):\n",
    "    srcFile = os.path.join(fire_train_dir ,  fire_img_file)\n",
    "    shutil.move(srcFile,validation_fire_dir )\n",
    "    \n",
    "for sparse_traffic_img_file in random.sample(training_sparse_traffic_files,validation_sparse_traffic_len ):\n",
    "    srcFile = os.path.join(sparse_traffic_train_dir,  sparse_traffic_img_file)\n",
    "    shutil.move(srcFile,validation_sparse_traffic_dir )  \n"
   ]
  },
  {
   "cell_type": "code",
   "execution_count": 8,
   "metadata": {
    "scrolled": true
   },
   "outputs": [
    {
     "ename": "NameError",
     "evalue": "name 'validation_accident_dir' is not defined",
     "output_type": "error",
     "traceback": [
      "\u001b[1;31m---------------------------------------------------------------------------\u001b[0m",
      "\u001b[1;31mNameError\u001b[0m                                 Traceback (most recent call last)",
      "\u001b[1;32m<ipython-input-8-c7b83d33afb7>\u001b[0m in \u001b[0;36m<module>\u001b[1;34m\u001b[0m\n\u001b[1;32m----> 1\u001b[1;33m \u001b[0mprint\u001b[0m\u001b[1;33m(\u001b[0m\u001b[1;34m'total validation accident images:'\u001b[0m\u001b[1;33m,\u001b[0m \u001b[0mlen\u001b[0m\u001b[1;33m(\u001b[0m\u001b[0mos\u001b[0m\u001b[1;33m.\u001b[0m\u001b[0mlistdir\u001b[0m\u001b[1;33m(\u001b[0m\u001b[0mvalidation_accident_dir\u001b[0m\u001b[1;33m)\u001b[0m\u001b[1;33m)\u001b[0m\u001b[1;33m)\u001b[0m\u001b[1;33m\u001b[0m\u001b[1;33m\u001b[0m\u001b[0m\n\u001b[0m\u001b[0;32m      2\u001b[0m \u001b[0mprint\u001b[0m\u001b[1;33m(\u001b[0m\u001b[1;34m'total validation dense traffic images:'\u001b[0m\u001b[1;33m,\u001b[0m \u001b[0mlen\u001b[0m\u001b[1;33m(\u001b[0m\u001b[0mos\u001b[0m\u001b[1;33m.\u001b[0m\u001b[0mlistdir\u001b[0m\u001b[1;33m(\u001b[0m\u001b[0mvalidation_dense_traffic_dir\u001b[0m\u001b[1;33m)\u001b[0m\u001b[1;33m)\u001b[0m\u001b[1;33m)\u001b[0m\u001b[1;33m\u001b[0m\u001b[1;33m\u001b[0m\u001b[0m\n\u001b[0;32m      3\u001b[0m \u001b[0mprint\u001b[0m\u001b[1;33m(\u001b[0m\u001b[1;34m'total validation fire images:'\u001b[0m\u001b[1;33m,\u001b[0m \u001b[0mlen\u001b[0m\u001b[1;33m(\u001b[0m\u001b[0mos\u001b[0m\u001b[1;33m.\u001b[0m\u001b[0mlistdir\u001b[0m\u001b[1;33m(\u001b[0m\u001b[0mvalidation_fire_dir\u001b[0m\u001b[1;33m)\u001b[0m\u001b[1;33m)\u001b[0m\u001b[1;33m)\u001b[0m\u001b[1;33m\u001b[0m\u001b[1;33m\u001b[0m\u001b[0m\n\u001b[0;32m      4\u001b[0m \u001b[0mprint\u001b[0m\u001b[1;33m(\u001b[0m\u001b[1;34m'total validation sparse traffic images:'\u001b[0m\u001b[1;33m,\u001b[0m \u001b[0mlen\u001b[0m\u001b[1;33m(\u001b[0m\u001b[0mos\u001b[0m\u001b[1;33m.\u001b[0m\u001b[0mlistdir\u001b[0m\u001b[1;33m(\u001b[0m\u001b[0mvalidation_sparse_traffic_dir\u001b[0m\u001b[1;33m)\u001b[0m\u001b[1;33m)\u001b[0m\u001b[1;33m)\u001b[0m\u001b[1;33m\u001b[0m\u001b[1;33m\u001b[0m\u001b[0m\n",
      "\u001b[1;31mNameError\u001b[0m: name 'validation_accident_dir' is not defined"
     ]
    }
   ],
   "source": [
    "print('total validation accident images:', len(os.listdir(validation_accident_dir)))\n",
    "print('total validation dense traffic images:', len(os.listdir(validation_dense_traffic_dir)))\n",
    "print('total validation fire images:', len(os.listdir(validation_fire_dir)))\n",
    "print('total validation sparse traffic images:', len(os.listdir(validation_sparse_traffic_dir)))"
   ]
  },
  {
   "cell_type": "markdown",
   "metadata": {},
   "source": [
    "## Building our network\n"
   ]
  },
  {
   "cell_type": "code",
   "execution_count": 1,
   "metadata": {},
   "outputs": [
    {
     "name": "stderr",
     "output_type": "stream",
     "text": [
      "Using TensorFlow backend.\n"
     ]
    },
    {
     "name": "stdout",
     "output_type": "stream",
     "text": [
      "WARNING:tensorflow:From C:\\Users\\sushi\\Anaconda3\\envs\\deeplearning\\lib\\site-packages\\keras\\backend\\tensorflow_backend.py:74: The name tf.get_default_graph is deprecated. Please use tf.compat.v1.get_default_graph instead.\n",
      "\n",
      "WARNING:tensorflow:From C:\\Users\\sushi\\Anaconda3\\envs\\deeplearning\\lib\\site-packages\\keras\\backend\\tensorflow_backend.py:517: The name tf.placeholder is deprecated. Please use tf.compat.v1.placeholder instead.\n",
      "\n",
      "WARNING:tensorflow:From C:\\Users\\sushi\\Anaconda3\\envs\\deeplearning\\lib\\site-packages\\keras\\backend\\tensorflow_backend.py:4138: The name tf.random_uniform is deprecated. Please use tf.random.uniform instead.\n",
      "\n"
     ]
    }
   ],
   "source": [
    "from keras import layers\n",
    "from keras import models\n",
    "\n",
    "model = models.Sequential()\n",
    "model.add(layers.Flatten(input_shape=(150, 150, 3)))\n",
    "model.add(layers.Dense(64, activation='tanh'))\n",
    "model.add(layers.Dense(128, activation='tanh'))\n",
    "model.add(layers.Dense(512, activation='tanh'))\n",
    "model.add(layers.Dense(4, activation='softmax'))"
   ]
  },
  {
   "cell_type": "code",
   "execution_count": 2,
   "metadata": {},
   "outputs": [
    {
     "name": "stdout",
     "output_type": "stream",
     "text": [
      "_________________________________________________________________\n",
      "Layer (type)                 Output Shape              Param #   \n",
      "=================================================================\n",
      "flatten_1 (Flatten)          (None, 67500)             0         \n",
      "_________________________________________________________________\n",
      "dense_1 (Dense)              (None, 64)                4320064   \n",
      "_________________________________________________________________\n",
      "dense_2 (Dense)              (None, 128)               8320      \n",
      "_________________________________________________________________\n",
      "dense_3 (Dense)              (None, 512)               66048     \n",
      "_________________________________________________________________\n",
      "dense_4 (Dense)              (None, 4)                 2052      \n",
      "=================================================================\n",
      "Total params: 4,396,484\n",
      "Trainable params: 4,396,484\n",
      "Non-trainable params: 0\n",
      "_________________________________________________________________\n"
     ]
    }
   ],
   "source": [
    "model.summary()"
   ]
  },
  {
   "cell_type": "markdown",
   "metadata": {},
   "source": [
    "Compilation, loss function and optimiser selection"
   ]
  },
  {
   "cell_type": "code",
   "execution_count": 3,
   "metadata": {},
   "outputs": [
    {
     "name": "stdout",
     "output_type": "stream",
     "text": [
      "WARNING:tensorflow:From C:\\Users\\sushi\\Anaconda3\\envs\\deeplearning\\lib\\site-packages\\keras\\optimizers.py:790: The name tf.train.Optimizer is deprecated. Please use tf.compat.v1.train.Optimizer instead.\n",
      "\n",
      "WARNING:tensorflow:From C:\\Users\\sushi\\Anaconda3\\envs\\deeplearning\\lib\\site-packages\\keras\\backend\\tensorflow_backend.py:3295: The name tf.log is deprecated. Please use tf.math.log instead.\n",
      "\n"
     ]
    }
   ],
   "source": [
    "from keras import optimizers\n",
    "\n",
    "model.compile(optimizer=optimizers.RMSprop(lr=1e-4),\n",
    "              loss='categorical_crossentropy',\n",
    "              metrics=['accuracy'])"
   ]
  },
  {
   "cell_type": "markdown",
   "metadata": {},
   "source": [
    "## Data preprocessing\n"
   ]
  },
  {
   "cell_type": "code",
   "execution_count": 4,
   "metadata": {},
   "outputs": [
    {
     "ename": "NameError",
     "evalue": "name 'train_dir' is not defined",
     "output_type": "error",
     "traceback": [
      "\u001b[1;31m---------------------------------------------------------------------------\u001b[0m",
      "\u001b[1;31mNameError\u001b[0m                                 Traceback (most recent call last)",
      "\u001b[1;32m<ipython-input-4-21c58c4cfacb>\u001b[0m in \u001b[0;36m<module>\u001b[1;34m\u001b[0m\n\u001b[0;32m     12\u001b[0m train_generator = train_datagen.flow_from_directory(\n\u001b[0;32m     13\u001b[0m         \u001b[1;31m# This is the target directory\u001b[0m\u001b[1;33m\u001b[0m\u001b[1;33m\u001b[0m\u001b[1;33m\u001b[0m\u001b[0m\n\u001b[1;32m---> 14\u001b[1;33m         \u001b[0mtrain_dir\u001b[0m\u001b[1;33m,\u001b[0m\u001b[1;33m\u001b[0m\u001b[1;33m\u001b[0m\u001b[0m\n\u001b[0m\u001b[0;32m     15\u001b[0m         \u001b[1;31m# All images will be resized to 150x150\u001b[0m\u001b[1;33m\u001b[0m\u001b[1;33m\u001b[0m\u001b[1;33m\u001b[0m\u001b[0m\n\u001b[0;32m     16\u001b[0m         \u001b[0mtarget_size\u001b[0m\u001b[1;33m=\u001b[0m\u001b[1;33m(\u001b[0m\u001b[1;36m150\u001b[0m\u001b[1;33m,\u001b[0m \u001b[1;36m150\u001b[0m\u001b[1;33m)\u001b[0m\u001b[1;33m,\u001b[0m\u001b[1;33m\u001b[0m\u001b[1;33m\u001b[0m\u001b[0m\n",
      "\u001b[1;31mNameError\u001b[0m: name 'train_dir' is not defined"
     ]
    }
   ],
   "source": [
    "from keras.preprocessing.image import ImageDataGenerator\n",
    "\n",
    "train_datagen = ImageDataGenerator(\n",
    "    rescale=1./255,\n",
    "    zoom_range=0.2,\n",
    "    horizontal_flip=True)\n",
    "validate_datagen = ImageDataGenerator(\n",
    "    rescale=1./255,\n",
    "    zoom_range=0.2,\n",
    "    horizontal_flip=True)\n",
    "\n",
    "train_generator = train_datagen.flow_from_directory(\n",
    "        # This is the target directory\n",
    "        train_dir,\n",
    "        # All images will be resized to 150x150\n",
    "        target_size=(150, 150),\n",
    "        batch_size=30,\n",
    "        class_mode='categorical')\n",
    "\n",
    "validation_generator = validate_datagen.flow_from_directory(\n",
    "        validation_dir,\n",
    "        target_size=(150, 150),\n",
    "        batch_size=30,\n",
    "        class_mode='categorical')"
   ]
  },
  {
   "cell_type": "code",
   "execution_count": 78,
   "metadata": {
    "scrolled": false
   },
   "outputs": [
    {
     "name": "stdout",
     "output_type": "stream",
     "text": [
      "data batch shape: (30, 150, 150, 3)\n",
      "labels batch shape: (30, 4)\n"
     ]
    }
   ],
   "source": [
    "\n",
    "for data_batch, labels_batch in train_generator:\n",
    "    print('data batch shape:', data_batch.shape)\n",
    "    print('labels batch shape:', labels_batch.shape)\n",
    "    break"
   ]
  },
  {
   "cell_type": "markdown",
   "metadata": {},
   "source": [
    "## Model Fitting"
   ]
  },
  {
   "cell_type": "code",
   "execution_count": 79,
   "metadata": {},
   "outputs": [
    {
     "name": "stdout",
     "output_type": "stream",
     "text": [
      "Epoch 1/30\n",
      "96/96 [==============================] - 17s 178ms/step - loss: 1.3567 - accuracy: 0.3139 - val_loss: 1.4226 - val_accuracy: 0.2944\n",
      "Epoch 2/30\n",
      "96/96 [==============================] - 17s 172ms/step - loss: 1.3039 - accuracy: 0.3521 - val_loss: 1.4534 - val_accuracy: 0.3486\n",
      "Epoch 3/30\n",
      "96/96 [==============================] - 16s 167ms/step - loss: 1.2574 - accuracy: 0.4122 - val_loss: 1.2459 - val_accuracy: 0.3722\n",
      "Epoch 4/30\n",
      "96/96 [==============================] - 19s 199ms/step - loss: 1.2352 - accuracy: 0.4153 - val_loss: 1.2200 - val_accuracy: 0.3903\n",
      "Epoch 5/30\n",
      "96/96 [==============================] - 15s 155ms/step - loss: 1.2197 - accuracy: 0.4274 - val_loss: 1.2329 - val_accuracy: 0.4319\n",
      "Epoch 6/30\n",
      "96/96 [==============================] - 16s 164ms/step - loss: 1.2123 - accuracy: 0.4389 - val_loss: 1.1262 - val_accuracy: 0.4417\n",
      "Epoch 7/30\n",
      "96/96 [==============================] - 16s 167ms/step - loss: 1.2070 - accuracy: 0.4368 - val_loss: 1.3100 - val_accuracy: 0.3944\n",
      "Epoch 8/30\n",
      "96/96 [==============================] - 17s 174ms/step - loss: 1.1853 - accuracy: 0.4566 - val_loss: 1.2778 - val_accuracy: 0.4264\n",
      "Epoch 9/30\n",
      "96/96 [==============================] - 15s 155ms/step - loss: 1.1779 - accuracy: 0.4785 - val_loss: 1.1186 - val_accuracy: 0.4292\n",
      "Epoch 10/30\n",
      "96/96 [==============================] - 16s 171ms/step - loss: 1.1508 - accuracy: 0.4854 - val_loss: 1.2734 - val_accuracy: 0.4347\n",
      "Epoch 11/30\n",
      "96/96 [==============================] - 16s 168ms/step - loss: 1.1770 - accuracy: 0.4576 - val_loss: 1.0738 - val_accuracy: 0.4208\n",
      "Epoch 12/30\n",
      "96/96 [==============================] - 15s 161ms/step - loss: 1.1735 - accuracy: 0.4691 - val_loss: 1.4038 - val_accuracy: 0.4292\n",
      "Epoch 13/30\n",
      "96/96 [==============================] - 16s 168ms/step - loss: 1.1584 - accuracy: 0.4767 - val_loss: 1.2786 - val_accuracy: 0.4833\n",
      "Epoch 14/30\n",
      "96/96 [==============================] - 16s 167ms/step - loss: 1.1607 - accuracy: 0.4625 - val_loss: 1.2123 - val_accuracy: 0.4264\n",
      "Epoch 15/30\n",
      "96/96 [==============================] - 16s 166ms/step - loss: 1.1673 - accuracy: 0.4740 - val_loss: 1.0659 - val_accuracy: 0.4681\n",
      "Epoch 16/30\n",
      "96/96 [==============================] - 16s 166ms/step - loss: 1.1616 - accuracy: 0.4764 - val_loss: 1.3907 - val_accuracy: 0.4208\n",
      "Epoch 17/30\n",
      "96/96 [==============================] - 16s 166ms/step - loss: 1.1464 - accuracy: 0.4774 - val_loss: 1.2347 - val_accuracy: 0.4653\n",
      "Epoch 18/30\n",
      "96/96 [==============================] - 15s 159ms/step - loss: 1.1545 - accuracy: 0.4837 - val_loss: 1.1969 - val_accuracy: 0.4625\n",
      "Epoch 19/30\n",
      "96/96 [==============================] - 15s 156ms/step - loss: 1.1264 - accuracy: 0.5000 - val_loss: 1.1270 - val_accuracy: 0.4625\n",
      "Epoch 20/30\n",
      "96/96 [==============================] - 16s 163ms/step - loss: 1.1540 - accuracy: 0.4868 - val_loss: 1.3217 - val_accuracy: 0.3431\n",
      "Epoch 21/30\n",
      "96/96 [==============================] - 17s 178ms/step - loss: 1.1579 - accuracy: 0.4785 - val_loss: 1.3140 - val_accuracy: 0.5069\n",
      "Epoch 22/30\n",
      "96/96 [==============================] - 18s 191ms/step - loss: 1.1268 - accuracy: 0.4847 - val_loss: 1.3350 - val_accuracy: 0.3264\n",
      "Epoch 23/30\n",
      "96/96 [==============================] - 21s 219ms/step - loss: 1.1317 - accuracy: 0.4976 - val_loss: 1.0036 - val_accuracy: 0.4472\n",
      "Epoch 24/30\n",
      "96/96 [==============================] - 18s 190ms/step - loss: 1.1206 - accuracy: 0.5080 - val_loss: 1.1322 - val_accuracy: 0.5264\n",
      "Epoch 25/30\n",
      "96/96 [==============================] - 35s 367ms/step - loss: 1.1053 - accuracy: 0.5101 - val_loss: 1.2534 - val_accuracy: 0.4694\n",
      "Epoch 26/30\n",
      "96/96 [==============================] - 22s 228ms/step - loss: 1.1461 - accuracy: 0.4837 - val_loss: 1.1796 - val_accuracy: 0.4917\n",
      "Epoch 27/30\n",
      "96/96 [==============================] - 18s 182ms/step - loss: 1.1221 - accuracy: 0.4861 - val_loss: 1.3934 - val_accuracy: 0.4153\n",
      "Epoch 28/30\n",
      "96/96 [==============================] - 17s 179ms/step - loss: 1.1256 - accuracy: 0.4972 - val_loss: 0.9623 - val_accuracy: 0.5264\n",
      "Epoch 29/30\n",
      "96/96 [==============================] - 17s 182ms/step - loss: 1.0950 - accuracy: 0.5194 - val_loss: 1.4444 - val_accuracy: 0.4111\n",
      "Epoch 30/30\n",
      "96/96 [==============================] - 16s 170ms/step - loss: 1.1263 - accuracy: 0.4924 - val_loss: 1.2792 - val_accuracy: 0.5097\n"
     ]
    }
   ],
   "source": [
    "history = model.fit_generator(\n",
    "      train_generator,\n",
    "      steps_per_epoch=96,\n",
    "      epochs=24,\n",
    "      validation_data=validation_generator,\n",
    "      validation_steps=24)"
   ]
  },
  {
   "cell_type": "code",
   "execution_count": 80,
   "metadata": {},
   "outputs": [],
   "source": [
    "model.save('PredictingTrafficConditionsHazards_convLayerIncrease.h5')"
   ]
  },
  {
   "cell_type": "markdown",
   "metadata": {},
   "source": [
    "## Plotting Training and validation Accuracy and loss"
   ]
  },
  {
   "cell_type": "code",
   "execution_count": 81,
   "metadata": {},
   "outputs": [
    {
     "name": "stdout",
     "output_type": "stream",
     "text": [
      "Found 800 images belonging to 4 classes.\n"
     ]
    }
   ],
   "source": [
    "tester_datagen = ImageDataGenerator(rescale=1./255)\n",
    "\n",
    "test_generator = tester_datagen.flow_from_directory(\n",
    "        test_dir,\n",
    "        target_size=(150, 150),\n",
    "        batch_size=1,\n",
    "        class_mode='categorical',\n",
    "        shuffle = 'False')\n",
    "\n",
    "results = model.evaluate_generator(test_generator,workers=6,steps=800 )"
   ]
  },
  {
   "cell_type": "code",
   "execution_count": 82,
   "metadata": {
    "scrolled": true
   },
   "outputs": [
    {
     "name": "stdout",
     "output_type": "stream",
     "text": [
      "[1.2533209323883057, 0.5024999976158142]\n"
     ]
    }
   ],
   "source": [
    "print(results)"
   ]
  },
  {
   "cell_type": "code",
   "execution_count": 83,
   "metadata": {},
   "outputs": [],
   "source": [
    "model.save('PredictingTrafficConditionsHazards_2.h5')"
   ]
  }
 ],
 "metadata": {
  "kernelspec": {
   "display_name": "Python 3",
   "language": "python",
   "name": "python3"
  },
  "language_info": {
   "codemirror_mode": {
    "name": "ipython",
    "version": 3
   },
   "file_extension": ".py",
   "mimetype": "text/x-python",
   "name": "python",
   "nbconvert_exporter": "python",
   "pygments_lexer": "ipython3",
   "version": "3.7.4"
  }
 },
 "nbformat": 4,
 "nbformat_minor": 2
}
