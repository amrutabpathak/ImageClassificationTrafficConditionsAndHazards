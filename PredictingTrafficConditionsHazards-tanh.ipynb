{
 "cells": [
  {
   "cell_type": "code",
   "execution_count": 14,
   "metadata": {},
   "outputs": [
    {
     "data": {
      "text/plain": [
       "'2.2.4'"
      ]
     },
     "execution_count": 14,
     "metadata": {},
     "output_type": "execute_result"
    }
   ],
   "source": [
    "import keras\n",
    "keras.__version__"
   ]
  },
  {
   "cell_type": "markdown",
   "metadata": {},
   "source": [
    "# Classifying traffic conditions or hazards: a multi-class classification example\n"
   ]
  },
  {
   "cell_type": "code",
   "execution_count": 15,
   "metadata": {},
   "outputs": [],
   "source": [
    "import os, shutil, random"
   ]
  },
  {
   "cell_type": "code",
   "execution_count": 16,
   "metadata": {},
   "outputs": [],
   "source": [
    "# The path to the directory where the original\n",
    "# dataset was uncompressed\n",
    "original_dataset_dir = r'./trafficnet_dataset_v1'\n",
    "\n",
    "\n",
    "train_dir = os.path.join(original_dataset_dir, 'train')\n",
    "validation_dir = os.path.join(original_dataset_dir, 'validation')\n",
    "test_dir = os.path.join(original_dataset_dir, 'test')\n",
    "os.mkdir(validation_dir)\n",
    "\n",
    "accident_train_dir = os.path.join(train_dir, 'accident')\n",
    "dense_traffic_train_dir = os.path.join(train_dir, 'dense_traffic')\n",
    "fire_train_dir = os.path.join(train_dir, 'fire')\n",
    "sparse_traffic_train_dir = os.path.join(train_dir, 'sparse_traffic')\n",
    "\n",
    "accident_test_dir = os.path.join(test_dir, 'accident')\n",
    "dense_traffic_test_dir = os.path.join(test_dir, 'dense_traffic')\n",
    "fire_test_dir = os.path.join(test_dir, 'fire')\n",
    "sparse_traffic_test_dir = os.path.join(test_dir, 'sparse_traffic')\n",
    "\n",
    "# Directory with our validation accident pictures\n",
    "validation_accident_dir = os.path.join(validation_dir, 'accident')\n",
    "os.mkdir(validation_accident_dir)\n",
    "validation_dense_traffic_dir = os.path.join(validation_dir, 'dense_traffic')\n",
    "os.mkdir(validation_dense_traffic_dir)\n",
    "validation_fire_dir = os.path.join(validation_dir, 'fire')\n",
    "os.mkdir(validation_fire_dir)\n",
    "validation_sparse_traffic_dir = os.path.join(validation_dir, 'sparse_traffic')\n",
    "os.mkdir(validation_sparse_traffic_dir)\n",
    "\n"
   ]
  },
  {
   "cell_type": "code",
   "execution_count": 17,
   "metadata": {
    "scrolled": true
   },
   "outputs": [
    {
     "name": "stdout",
     "output_type": "stream",
     "text": [
      "total training accident images: 900\n",
      "total training dense traffic images: 900\n",
      "total training fire images: 900\n",
      "total training sparse traffic images: 901\n",
      "\n",
      "\n",
      "total test accident images: 200\n",
      "total test dense traffic images: 200\n",
      "total test fire images: 200\n",
      "total test sparse traffic images: 200\n"
     ]
    }
   ],
   "source": [
    "print('total training accident images:', len(os.listdir(accident_train_dir)))\n",
    "print('total training dense traffic images:', len(os.listdir(dense_traffic_train_dir)))\n",
    "print('total training fire images:', len(os.listdir(fire_train_dir)))\n",
    "print('total training sparse traffic images:', len(os.listdir(sparse_traffic_train_dir)))\n",
    "print(\"\\n\")\n",
    "print('total test accident images:', len(os.listdir(accident_test_dir)))\n",
    "print('total test dense traffic images:', len(os.listdir(dense_traffic_test_dir)))\n",
    "print('total test fire images:', len(os.listdir(fire_test_dir)))\n",
    "print('total test sparse traffic images:', len(os.listdir(sparse_traffic_test_dir)))"
   ]
  },
  {
   "cell_type": "code",
   "execution_count": 18,
   "metadata": {},
   "outputs": [
    {
     "name": "stdout",
     "output_type": "stream",
     "text": [
      "validation_accident_len 180\n",
      "validation_dense_traffic_len 180\n",
      "validation_fire_len 180\n",
      "validation_sparse_traffic_len 180\n"
     ]
    }
   ],
   "source": [
    "#Taking a 80:20 split of training and validation data\n",
    "\n",
    "validation_accident_len = int(len(os.listdir(accident_train_dir)) * 0.2)\n",
    "print('validation_accident_len', validation_accident_len)\n",
    "\n",
    "validation_dense_traffic_len = int(len(os.listdir(dense_traffic_train_dir)) * 0.2)\n",
    "print('validation_dense_traffic_len', validation_dense_traffic_len)\n",
    "validation_fire_len = int(len(os.listdir(fire_train_dir)) * 0.2)\n",
    "print('validation_fire_len', validation_fire_len)\n",
    "validation_sparse_traffic_len = int(len(os.listdir(sparse_traffic_train_dir)) * 0.2)\n",
    "print('validation_sparse_traffic_len', validation_sparse_traffic_len)\n",
    "\n",
    "\n"
   ]
  },
  {
   "cell_type": "code",
   "execution_count": 19,
   "metadata": {},
   "outputs": [],
   "source": [
    "# Adding images to validation directory\n",
    "training_accident_files = os.listdir(accident_train_dir)\n",
    "training_dense_traffic_files = os.listdir(dense_traffic_train_dir)\n",
    "training_fire_files = os.listdir(fire_train_dir)\n",
    "training_sparse_traffic_files = os.listdir(sparse_traffic_train_dir)\n",
    "#print( random.sample(training_accident_files,validation_accident_len ))\n",
    "\n",
    "\n",
    "for accident_img_file in random.sample(training_accident_files,validation_accident_len ):\n",
    "    srcFile = os.path.join(accident_train_dir,  accident_img_file)\n",
    "    shutil.move(srcFile,validation_accident_dir )\n",
    "    \n",
    "for dense_traffic_img_file in random.sample(training_dense_traffic_files,validation_dense_traffic_len ):\n",
    "    srcFile = os.path.join(dense_traffic_train_dir,  dense_traffic_img_file)\n",
    "    shutil.move(srcFile,validation_dense_traffic_dir )\n",
    "    \n",
    "for fire_img_file in random.sample(training_fire_files,validation_fire_len ):\n",
    "    srcFile = os.path.join(fire_train_dir ,  fire_img_file)\n",
    "    shutil.move(srcFile,validation_fire_dir )\n",
    "    \n",
    "for sparse_traffic_img_file in random.sample(training_sparse_traffic_files,validation_sparse_traffic_len ):\n",
    "    srcFile = os.path.join(sparse_traffic_train_dir,  sparse_traffic_img_file)\n",
    "    shutil.move(srcFile,validation_sparse_traffic_dir )  \n"
   ]
  },
  {
   "cell_type": "code",
   "execution_count": 33,
   "metadata": {
    "scrolled": true
   },
   "outputs": [
    {
     "name": "stdout",
     "output_type": "stream",
     "text": [
      "total validation accident images: 180\n",
      "total validation dense traffic images: 180\n",
      "total validation fire images: 180\n",
      "total validation sparse traffic images: 180\n"
     ]
    }
   ],
   "source": [
    "print('total validation accident images:', len(os.listdir(validation_accident_dir)))\n",
    "print('total validation dense traffic images:', len(os.listdir(validation_dense_traffic_dir)))\n",
    "print('total validation fire images:', len(os.listdir(validation_fire_dir)))\n",
    "print('total validation sparse traffic images:', len(os.listdir(validation_sparse_traffic_dir)))"
   ]
  },
  {
   "cell_type": "markdown",
   "metadata": {},
   "source": [
    "## Building our network\n"
   ]
  },
  {
   "cell_type": "code",
   "execution_count": 34,
   "metadata": {},
   "outputs": [],
   "source": [
    "from keras import layers\n",
    "from keras import models\n",
    "\n",
    "model = models.Sequential()\n",
    "model.add(layers.Conv2D(32, (3, 3), activation='tanh',\n",
    "                        input_shape=(200, 100, 3)))\n",
    "model.add(layers.MaxPooling2D((2, 2)))\n",
    "model.add(layers.Conv2D(64, (3, 3), activation='tanh'))\n",
    "model.add(layers.MaxPooling2D((2, 2)))\n",
    "model.add(layers.Conv2D(128, (3, 3), activation='tanh'))\n",
    "model.add(layers.MaxPooling2D((2, 2)))\n",
    "model.add(layers.Conv2D(128, (3, 3), activation='tanh'))\n",
    "model.add(layers.MaxPooling2D((2, 2)))\n",
    "model.add(layers.Flatten())\n",
    "model.add(layers.Dense(512, activation='tanh'))\n",
    "model.add(layers.Dense(4, activation='softmax'))"
   ]
  },
  {
   "cell_type": "code",
   "execution_count": 35,
   "metadata": {},
   "outputs": [
    {
     "name": "stdout",
     "output_type": "stream",
     "text": [
      "_________________________________________________________________\n",
      "Layer (type)                 Output Shape              Param #   \n",
      "=================================================================\n",
      "conv2d_13 (Conv2D)           (None, 198, 98, 32)       896       \n",
      "_________________________________________________________________\n",
      "max_pooling2d_13 (MaxPooling (None, 99, 49, 32)        0         \n",
      "_________________________________________________________________\n",
      "conv2d_14 (Conv2D)           (None, 97, 47, 64)        18496     \n",
      "_________________________________________________________________\n",
      "max_pooling2d_14 (MaxPooling (None, 48, 23, 64)        0         \n",
      "_________________________________________________________________\n",
      "conv2d_15 (Conv2D)           (None, 46, 21, 128)       73856     \n",
      "_________________________________________________________________\n",
      "max_pooling2d_15 (MaxPooling (None, 23, 10, 128)       0         \n",
      "_________________________________________________________________\n",
      "conv2d_16 (Conv2D)           (None, 21, 8, 128)        147584    \n",
      "_________________________________________________________________\n",
      "max_pooling2d_16 (MaxPooling (None, 10, 4, 128)        0         \n",
      "_________________________________________________________________\n",
      "flatten_4 (Flatten)          (None, 5120)              0         \n",
      "_________________________________________________________________\n",
      "dense_7 (Dense)              (None, 512)               2621952   \n",
      "_________________________________________________________________\n",
      "dense_8 (Dense)              (None, 4)                 2052      \n",
      "=================================================================\n",
      "Total params: 2,864,836\n",
      "Trainable params: 2,864,836\n",
      "Non-trainable params: 0\n",
      "_________________________________________________________________\n"
     ]
    }
   ],
   "source": [
    "model.summary()"
   ]
  },
  {
   "cell_type": "markdown",
   "metadata": {},
   "source": [
    "Compilation, loss function and optimiser selection"
   ]
  },
  {
   "cell_type": "code",
   "execution_count": 36,
   "metadata": {},
   "outputs": [],
   "source": [
    "from keras import optimizers\n",
    "\n",
    "model.compile(optimizer=optimizers.RMSprop(lr=1e-4),\n",
    "              loss='categorical_crossentropy',\n",
    "              metrics=['accuracy'])"
   ]
  },
  {
   "cell_type": "markdown",
   "metadata": {},
   "source": [
    "## Data preprocessing\n"
   ]
  },
  {
   "cell_type": "code",
   "execution_count": 37,
   "metadata": {},
   "outputs": [
    {
     "name": "stdout",
     "output_type": "stream",
     "text": [
      "Found 2881 images belonging to 4 classes.\n",
      "Found 719 images belonging to 4 classes.\n"
     ]
    }
   ],
   "source": [
    "from keras.preprocessing.image import ImageDataGenerator\n",
    "\n",
    "train_datagen = ImageDataGenerator(\n",
    "    rescale=1./255,\n",
    "    zoom_range=0.2,\n",
    "    horizontal_flip=True)\n",
    "\n",
    "validate_datagen = ImageDataGenerator(\n",
    "    rescale=1./255,\n",
    "    zoom_range=0.2,\n",
    "    horizontal_flip=True)\n",
    "\n",
    "train_generator = train_datagen.flow_from_directory(\n",
    "        # This is the target directory\n",
    "        train_dir,\n",
    "        # All images will be resized to 150x150\n",
    "        target_size=(200, 100),\n",
    "        batch_size=30,\n",
    "        color_mode='rgb',\n",
    "        class_mode='categorical')\n",
    "\n",
    "validation_generator = validate_datagen.flow_from_directory(\n",
    "        validation_dir,\n",
    "        target_size=(200, 100),\n",
    "        batch_size=30,\n",
    "        color_mode='rgb',\n",
    "        class_mode='categorical')"
   ]
  },
  {
   "cell_type": "code",
   "execution_count": 38,
   "metadata": {
    "scrolled": false
   },
   "outputs": [
    {
     "name": "stdout",
     "output_type": "stream",
     "text": [
      "data batch shape: (30, 200, 100, 3)\n",
      "labels batch shape: (30, 4)\n"
     ]
    }
   ],
   "source": [
    "\n",
    "for data_batch, labels_batch in train_generator:\n",
    "    print('data batch shape:', data_batch.shape)\n",
    "    print('labels batch shape:', labels_batch.shape)\n",
    "    break"
   ]
  },
  {
   "cell_type": "markdown",
   "metadata": {},
   "source": [
    "## Model Fitting"
   ]
  },
  {
   "cell_type": "code",
   "execution_count": 39,
   "metadata": {
    "scrolled": false
   },
   "outputs": [
    {
     "name": "stdout",
     "output_type": "stream",
     "text": [
      "Epoch 1/30\n",
      "96/96 [==============================] - 46s 480ms/step - loss: 0.9812 - acc: 0.5927 - val_loss: 1.4689 - val_acc: 0.4673\n",
      "Epoch 2/30\n",
      "96/96 [==============================] - 46s 476ms/step - loss: 0.8235 - acc: 0.6708 - val_loss: 0.7818 - val_acc: 0.6857\n",
      "Epoch 3/30\n",
      "96/96 [==============================] - 45s 473ms/step - loss: 0.7375 - acc: 0.7218 - val_loss: 0.6679 - val_acc: 0.7413\n",
      "Epoch 4/30\n",
      "96/96 [==============================] - 45s 472ms/step - loss: 0.7358 - acc: 0.7140 - val_loss: 0.6465 - val_acc: 0.7538\n",
      "Epoch 5/30\n",
      "96/96 [==============================] - 45s 473ms/step - loss: 0.6743 - acc: 0.7475 - val_loss: 0.6722 - val_acc: 0.7302\n",
      "Epoch 6/30\n",
      "96/96 [==============================] - 45s 472ms/step - loss: 0.6561 - acc: 0.7493 - val_loss: 0.6403 - val_acc: 0.7622\n",
      "Epoch 7/30\n",
      "96/96 [==============================] - 45s 472ms/step - loss: 0.6427 - acc: 0.7548 - val_loss: 0.6787 - val_acc: 0.7650\n",
      "Epoch 8/30\n",
      "96/96 [==============================] - 45s 471ms/step - loss: 0.6518 - acc: 0.7643 - val_loss: 0.6329 - val_acc: 0.7524\n",
      "Epoch 9/30\n",
      "96/96 [==============================] - 45s 471ms/step - loss: 0.6013 - acc: 0.7826 - val_loss: 0.6722 - val_acc: 0.7344\n",
      "Epoch 10/30\n",
      "96/96 [==============================] - 45s 472ms/step - loss: 0.5836 - acc: 0.7774 - val_loss: 0.6183 - val_acc: 0.7775\n",
      "Epoch 11/30\n",
      "96/96 [==============================] - 45s 472ms/step - loss: 0.5815 - acc: 0.7857 - val_loss: 0.5963 - val_acc: 0.7816\n",
      "Epoch 12/30\n",
      "96/96 [==============================] - 45s 472ms/step - loss: 0.5589 - acc: 0.7885 - val_loss: 0.6039 - val_acc: 0.7622\n",
      "Epoch 13/30\n",
      "96/96 [==============================] - 45s 472ms/step - loss: 0.5556 - acc: 0.7847 - val_loss: 0.5924 - val_acc: 0.7608\n",
      "Epoch 14/30\n",
      "96/96 [==============================] - 46s 475ms/step - loss: 0.5485 - acc: 0.8014 - val_loss: 0.6090 - val_acc: 0.7733\n",
      "Epoch 15/30\n",
      "96/96 [==============================] - 45s 471ms/step - loss: 0.5289 - acc: 0.8045 - val_loss: 0.6483 - val_acc: 0.7538\n",
      "Epoch 16/30\n",
      "96/96 [==============================] - 45s 472ms/step - loss: 0.5535 - acc: 0.8003 - val_loss: 0.5743 - val_acc: 0.7775\n",
      "Epoch 17/30\n",
      "96/96 [==============================] - 45s 472ms/step - loss: 0.5141 - acc: 0.8041 - val_loss: 0.6138 - val_acc: 0.7858\n",
      "Epoch 18/30\n",
      "96/96 [==============================] - 45s 472ms/step - loss: 0.5134 - acc: 0.8076 - val_loss: 0.6073 - val_acc: 0.7663\n",
      "Epoch 19/30\n",
      "96/96 [==============================] - 45s 472ms/step - loss: 0.4974 - acc: 0.8163 - val_loss: 0.6324 - val_acc: 0.7705\n",
      "Epoch 20/30\n",
      "96/96 [==============================] - 45s 471ms/step - loss: 0.5098 - acc: 0.8105 - val_loss: 0.5930 - val_acc: 0.7844\n",
      "Epoch 21/30\n",
      "96/96 [==============================] - 45s 472ms/step - loss: 0.4927 - acc: 0.8163 - val_loss: 0.5627 - val_acc: 0.7830\n",
      "Epoch 22/30\n",
      "96/96 [==============================] - 45s 471ms/step - loss: 0.4707 - acc: 0.8236 - val_loss: 0.5737 - val_acc: 0.7942\n",
      "Epoch 23/30\n",
      "96/96 [==============================] - 45s 472ms/step - loss: 0.4704 - acc: 0.8316 - val_loss: 0.6103 - val_acc: 0.7705\n",
      "Epoch 24/30\n",
      "96/96 [==============================] - 45s 474ms/step - loss: 0.4703 - acc: 0.8281 - val_loss: 0.5739 - val_acc: 0.7886\n",
      "Epoch 25/30\n",
      "96/96 [==============================] - 45s 472ms/step - loss: 0.4439 - acc: 0.8420 - val_loss: 0.6069 - val_acc: 0.7816\n",
      "Epoch 26/30\n",
      "96/96 [==============================] - 45s 471ms/step - loss: 0.4620 - acc: 0.8371 - val_loss: 0.5828 - val_acc: 0.7886\n",
      "Epoch 27/30\n",
      "96/96 [==============================] - 45s 473ms/step - loss: 0.4780 - acc: 0.8275 - val_loss: 0.6136 - val_acc: 0.7844\n",
      "Epoch 28/30\n",
      "96/96 [==============================] - 45s 473ms/step - loss: 0.4402 - acc: 0.8441 - val_loss: 0.5922 - val_acc: 0.7816\n",
      "Epoch 29/30\n",
      "96/96 [==============================] - 46s 474ms/step - loss: 0.4252 - acc: 0.8403 - val_loss: 0.5331 - val_acc: 0.8081\n",
      "Epoch 30/30\n",
      "96/96 [==============================] - 45s 472ms/step - loss: 0.4240 - acc: 0.8417 - val_loss: 0.5372 - val_acc: 0.7969\n"
     ]
    }
   ],
   "source": [
    "history = model.fit_generator(\n",
    "      train_generator,\n",
    "      steps_per_epoch=96,\n",
    "      epochs=30,\n",
    "      validation_data=validation_generator,\n",
    "      use_multiprocessing=True,\n",
    "      validation_steps=24)"
   ]
  },
  {
   "cell_type": "code",
   "execution_count": 40,
   "metadata": {},
   "outputs": [],
   "source": [
    "model.save('PredictingTrafficConditionsHazards_i150_b30_3cl_i2.h5')"
   ]
  },
  {
   "cell_type": "markdown",
   "metadata": {},
   "source": [
    "## Plotting Training and validation Accuracy and loss"
   ]
  },
  {
   "cell_type": "code",
   "execution_count": 41,
   "metadata": {},
   "outputs": [
    {
     "data": {
      "text/plain": [
       "<Figure size 640x480 with 1 Axes>"
      ]
     },
     "metadata": {},
     "output_type": "display_data"
    },
    {
     "data": {
      "text/plain": [
       "<Figure size 640x480 with 1 Axes>"
      ]
     },
     "metadata": {},
     "output_type": "display_data"
    }
   ],
   "source": [
    "import matplotlib.pyplot as plt\n",
    "\n",
    "acc = history.history['acc']\n",
    "val_acc = history.history['val_acc']\n",
    "loss = history.history['loss']\n",
    "val_loss = history.history['val_loss']\n",
    "\n",
    "epochs = range(len(acc))\n",
    "\n",
    "plt.plot(epochs, acc, 'bo', label='Training acc')\n",
    "plt.plot(epochs, val_acc, 'b', label='Validation acc')\n",
    "plt.title('Training and validation accuracy')\n",
    "plt.legend()\n",
    "\n",
    "plt.figure()\n",
    "\n",
    "plt.plot(epochs, loss, 'bo', label='Training loss')\n",
    "plt.plot(epochs, val_loss, 'b', label='Validation loss')\n",
    "plt.title('Training and validation loss')\n",
    "plt.legend()\n",
    "\n",
    "plt.show()"
   ]
  },
  {
   "cell_type": "code",
   "execution_count": 42,
   "metadata": {},
   "outputs": [
    {
     "name": "stdout",
     "output_type": "stream",
     "text": [
      "Found 800 images belonging to 4 classes.\n"
     ]
    }
   ],
   "source": [
    "tester_datagen = ImageDataGenerator(rescale=1./255)\n",
    "\n",
    "test_generator = tester_datagen.flow_from_directory(\n",
    "        test_dir,\n",
    "        target_size=(200, 100),\n",
    "        batch_size=1,\n",
    "        class_mode='categorical',\n",
    "        shuffle = 'False')\n",
    "\n",
    "results = model.evaluate_generator(test_generator,workers=6,steps=800 )"
   ]
  },
  {
   "cell_type": "code",
   "execution_count": 43,
   "metadata": {},
   "outputs": [
    {
     "name": "stdout",
     "output_type": "stream",
     "text": [
      "[0.671826478245473, 0.75625]\n"
     ]
    }
   ],
   "source": [
    "print(results)"
   ]
  },
  {
   "cell_type": "code",
   "execution_count": null,
   "metadata": {},
   "outputs": [],
   "source": []
  }
 ],
 "metadata": {
  "kernelspec": {
   "display_name": "Python 3",
   "language": "python",
   "name": "python3"
  },
  "language_info": {
   "codemirror_mode": {
    "name": "ipython",
    "version": 3
   },
   "file_extension": ".py",
   "mimetype": "text/x-python",
   "name": "python",
   "nbconvert_exporter": "python",
   "pygments_lexer": "ipython3",
   "version": "3.7.4"
  }
 },
 "nbformat": 4,
 "nbformat_minor": 2
}
