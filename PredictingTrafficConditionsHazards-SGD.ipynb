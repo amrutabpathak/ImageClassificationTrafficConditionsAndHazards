{
 "cells": [
  {
   "cell_type": "code",
   "execution_count": 12,
   "metadata": {
    "scrolled": true
   },
   "outputs": [
    {
     "data": {
      "text/plain": [
       "'2.2.4'"
      ]
     },
     "execution_count": 12,
     "metadata": {},
     "output_type": "execute_result"
    }
   ],
   "source": [
    "import keras\n",
    "keras.__version__"
   ]
  },
  {
   "cell_type": "markdown",
   "metadata": {},
   "source": [
    "# Classifying traffic conditions or hazards: a multi-class classification example\n"
   ]
  },
  {
   "cell_type": "code",
   "execution_count": 15,
   "metadata": {},
   "outputs": [],
   "source": [
    "import os, shutil, random"
   ]
  },
  {
   "cell_type": "code",
   "execution_count": 19,
   "metadata": {},
   "outputs": [],
   "source": [
    "# The path to the directory where the original\n",
    "# dataset was uncompressed\n",
    "original_dataset_dir = r'./trafficnet_dataset_v1'\n",
    "\n",
    "\n",
    "train_dir = os.path.join(original_dataset_dir, 'train')\n",
    "validation_dir = os.path.join(original_dataset_dir, 'validation')\n",
    "test_dir = os.path.join(original_dataset_dir, 'test')\n",
    "os.mkdir(validation_dir)\n",
    "\n",
    "accident_train_dir = os.path.join(train_dir, 'accident')\n",
    "dense_traffic_train_dir = os.path.join(train_dir, 'dense_traffic')\n",
    "fire_train_dir = os.path.join(train_dir, 'fire')\n",
    "sparse_traffic_train_dir = os.path.join(train_dir, 'sparse_traffic')\n",
    "\n",
    "accident_test_dir = os.path.join(test_dir, 'accident')\n",
    "dense_traffic_test_dir = os.path.join(test_dir, 'dense_traffic')\n",
    "fire_test_dir = os.path.join(test_dir, 'fire')\n",
    "sparse_traffic_test_dir = os.path.join(test_dir, 'sparse_traffic')\n",
    "\n",
    "# Directory with our validation accident pictures\n",
    "validation_accident_dir = os.path.join(validation_dir, 'accident')\n",
    "os.mkdir(validation_accident_dir)\n",
    "validation_dense_traffic_dir = os.path.join(validation_dir, 'dense_traffic')\n",
    "os.mkdir(validation_dense_traffic_dir)\n",
    "validation_fire_dir = os.path.join(validation_dir, 'fire')\n",
    "os.mkdir(validation_fire_dir)\n",
    "validation_sparse_traffic_dir = os.path.join(validation_dir, 'sparse_traffic')\n",
    "os.mkdir(validation_sparse_traffic_dir)\n",
    "\n"
   ]
  },
  {
   "cell_type": "code",
   "execution_count": 20,
   "metadata": {
    "scrolled": true
   },
   "outputs": [
    {
     "name": "stdout",
     "output_type": "stream",
     "text": [
      "total training accident images: 900\n",
      "total training dense traffic images: 900\n",
      "total training fire images: 900\n",
      "total training sparse traffic images: 901\n",
      "\n",
      "\n",
      "total test accident images: 200\n",
      "total test dense traffic images: 200\n",
      "total test fire images: 200\n",
      "total test sparse traffic images: 200\n"
     ]
    }
   ],
   "source": [
    "print('total training accident images:', len(os.listdir(accident_train_dir)))\n",
    "print('total training dense traffic images:', len(os.listdir(dense_traffic_train_dir)))\n",
    "print('total training fire images:', len(os.listdir(fire_train_dir)))\n",
    "print('total training sparse traffic images:', len(os.listdir(sparse_traffic_train_dir)))\n",
    "print(\"\\n\")\n",
    "print('total test accident images:', len(os.listdir(accident_test_dir)))\n",
    "print('total test dense traffic images:', len(os.listdir(dense_traffic_test_dir)))\n",
    "print('total test fire images:', len(os.listdir(fire_test_dir)))\n",
    "print('total test sparse traffic images:', len(os.listdir(sparse_traffic_test_dir)))"
   ]
  },
  {
   "cell_type": "code",
   "execution_count": 21,
   "metadata": {},
   "outputs": [
    {
     "name": "stdout",
     "output_type": "stream",
     "text": [
      "validation_accident_len 180\n",
      "validation_dense_traffic_len 180\n",
      "validation_fire_len 180\n",
      "validation_sparse_traffic_len 180\n"
     ]
    }
   ],
   "source": [
    "#Taking a 80:20 split of training and validation data\n",
    "\n",
    "validation_accident_len = int(len(os.listdir(accident_train_dir)) * 0.2)\n",
    "print('validation_accident_len', validation_accident_len)\n",
    "\n",
    "validation_dense_traffic_len = int(len(os.listdir(dense_traffic_train_dir)) * 0.2)\n",
    "print('validation_dense_traffic_len', validation_dense_traffic_len)\n",
    "validation_fire_len = int(len(os.listdir(fire_train_dir)) * 0.2)\n",
    "print('validation_fire_len', validation_fire_len)\n",
    "validation_sparse_traffic_len = int(len(os.listdir(sparse_traffic_train_dir)) * 0.2)\n",
    "print('validation_sparse_traffic_len', validation_sparse_traffic_len)\n",
    "\n",
    "\n"
   ]
  },
  {
   "cell_type": "code",
   "execution_count": 22,
   "metadata": {},
   "outputs": [],
   "source": [
    "# Adding images to validation directory\n",
    "training_accident_files = os.listdir(accident_train_dir)\n",
    "training_dense_traffic_files = os.listdir(dense_traffic_train_dir)\n",
    "training_fire_files = os.listdir(fire_train_dir)\n",
    "training_sparse_traffic_files = os.listdir(sparse_traffic_train_dir)\n",
    "#print( random.sample(training_accident_files,validation_accident_len ))\n",
    "\n",
    "\n",
    "for accident_img_file in random.sample(training_accident_files,validation_accident_len ):\n",
    "    srcFile = os.path.join(accident_train_dir,  accident_img_file)\n",
    "    shutil.move(srcFile,validation_accident_dir )\n",
    "    \n",
    "for dense_traffic_img_file in random.sample(training_dense_traffic_files,validation_dense_traffic_len ):\n",
    "    srcFile = os.path.join(dense_traffic_train_dir,  dense_traffic_img_file)\n",
    "    shutil.move(srcFile,validation_dense_traffic_dir )\n",
    "    \n",
    "for fire_img_file in random.sample(training_fire_files,validation_fire_len ):\n",
    "    srcFile = os.path.join(fire_train_dir ,  fire_img_file)\n",
    "    shutil.move(srcFile,validation_fire_dir )\n",
    "    \n",
    "for sparse_traffic_img_file in random.sample(training_sparse_traffic_files,validation_sparse_traffic_len ):\n",
    "    srcFile = os.path.join(sparse_traffic_train_dir,  sparse_traffic_img_file)\n",
    "    shutil.move(srcFile,validation_sparse_traffic_dir )  \n"
   ]
  },
  {
   "cell_type": "code",
   "execution_count": 23,
   "metadata": {
    "scrolled": false
   },
   "outputs": [
    {
     "name": "stdout",
     "output_type": "stream",
     "text": [
      "total validation accident images: 180\n",
      "total validation dense traffic images: 180\n",
      "total validation fire images: 180\n",
      "total validation sparse traffic images: 180\n"
     ]
    }
   ],
   "source": [
    "print('total validation accident images:', len(os.listdir(validation_accident_dir)))\n",
    "print('total validation dense traffic images:', len(os.listdir(validation_dense_traffic_dir)))\n",
    "print('total validation fire images:', len(os.listdir(validation_fire_dir)))\n",
    "print('total validation sparse traffic images:', len(os.listdir(validation_sparse_traffic_dir)))"
   ]
  },
  {
   "cell_type": "markdown",
   "metadata": {},
   "source": [
    "## Building our network\n"
   ]
  },
  {
   "cell_type": "code",
   "execution_count": 24,
   "metadata": {},
   "outputs": [],
   "source": [
    "from keras import layers\n",
    "from keras import models\n",
    "\n",
    "model = models.Sequential()\n",
    "model.add(layers.Conv2D(32, (3, 3), activation='tanh',\n",
    "                        input_shape=(200, 100, 3)))\n",
    "model.add(layers.MaxPooling2D((2, 2)))\n",
    "model.add(layers.Conv2D(64, (3, 3), activation='tanh'))\n",
    "model.add(layers.MaxPooling2D((2, 2)))\n",
    "model.add(layers.Conv2D(128, (3, 3), activation='tanh'))\n",
    "model.add(layers.MaxPooling2D((2, 2)))\n",
    "model.add(layers.Conv2D(128, (3, 3), activation='tanh'))\n",
    "model.add(layers.MaxPooling2D((2, 2)))\n",
    "model.add(layers.Flatten())\n",
    "model.add(layers.Dense(512, activation='tanh'))\n",
    "model.add(layers.Dense(4, activation='softmax'))"
   ]
  },
  {
   "cell_type": "code",
   "execution_count": 25,
   "metadata": {},
   "outputs": [
    {
     "name": "stdout",
     "output_type": "stream",
     "text": [
      "_________________________________________________________________\n",
      "Layer (type)                 Output Shape              Param #   \n",
      "=================================================================\n",
      "conv2d_1 (Conv2D)            (None, 198, 98, 32)       896       \n",
      "_________________________________________________________________\n",
      "max_pooling2d_1 (MaxPooling2 (None, 99, 49, 32)        0         \n",
      "_________________________________________________________________\n",
      "conv2d_2 (Conv2D)            (None, 97, 47, 64)        18496     \n",
      "_________________________________________________________________\n",
      "max_pooling2d_2 (MaxPooling2 (None, 48, 23, 64)        0         \n",
      "_________________________________________________________________\n",
      "conv2d_3 (Conv2D)            (None, 46, 21, 128)       73856     \n",
      "_________________________________________________________________\n",
      "max_pooling2d_3 (MaxPooling2 (None, 23, 10, 128)       0         \n",
      "_________________________________________________________________\n",
      "conv2d_4 (Conv2D)            (None, 21, 8, 128)        147584    \n",
      "_________________________________________________________________\n",
      "max_pooling2d_4 (MaxPooling2 (None, 10, 4, 128)        0         \n",
      "_________________________________________________________________\n",
      "flatten_2 (Flatten)          (None, 5120)              0         \n",
      "_________________________________________________________________\n",
      "dense_3 (Dense)              (None, 512)               2621952   \n",
      "_________________________________________________________________\n",
      "dense_4 (Dense)              (None, 4)                 2052      \n",
      "=================================================================\n",
      "Total params: 2,864,836\n",
      "Trainable params: 2,864,836\n",
      "Non-trainable params: 0\n",
      "_________________________________________________________________\n"
     ]
    }
   ],
   "source": [
    "model.summary()"
   ]
  },
  {
   "cell_type": "markdown",
   "metadata": {},
   "source": [
    "Compilation, loss function and optimiser selection"
   ]
  },
  {
   "cell_type": "code",
   "execution_count": 26,
   "metadata": {},
   "outputs": [],
   "source": [
    "from keras import optimizers\n",
    "\n",
    "model.compile(optimizer=optimizers.SGD(lr=0.01, momentum=0.8, decay=0.1/30, nesterov=False),\n",
    "              loss='categorical_crossentropy',\n",
    "              metrics=['accuracy'])"
   ]
  },
  {
   "cell_type": "markdown",
   "metadata": {},
   "source": [
    "## Data preprocessing\n"
   ]
  },
  {
   "cell_type": "code",
   "execution_count": 30,
   "metadata": {},
   "outputs": [
    {
     "name": "stdout",
     "output_type": "stream",
     "text": [
      "Found 2880 images belonging to 4 classes.\n",
      "Found 720 images belonging to 4 classes.\n"
     ]
    }
   ],
   "source": [
    "from keras.preprocessing.image import ImageDataGenerator\n",
    "\n",
    "train_datagen = ImageDataGenerator(\n",
    "    rescale=1./255,\n",
    "    zoom_range=0.2,\n",
    "    horizontal_flip=True)\n",
    "\n",
    "validate_datagen = ImageDataGenerator(\n",
    "    rescale=1./255,\n",
    "    zoom_range=0.2,\n",
    "    horizontal_flip=True)\n",
    "\n",
    "import os\n",
    "original_dataset_dir = r'./trafficnet_dataset_v1'\n",
    "train_dir = os.path.join(original_dataset_dir, 'train')\n",
    "validation_dir = os.path.join(original_dataset_dir, 'validation')\n",
    "test_dir = os.path.join(original_dataset_dir, 'test')\n",
    "\n",
    "train_generator = train_datagen.flow_from_directory(\n",
    "        # This is the target directory\n",
    "        train_dir,\n",
    "        # All images will be resized to 150x150\n",
    "        target_size=(200, 100),\n",
    "        batch_size=30,\n",
    "        color_mode='rgb',\n",
    "        class_mode='categorical')\n",
    "\n",
    "validation_generator = validate_datagen.flow_from_directory(\n",
    "        validation_dir,\n",
    "        target_size=(200, 100),\n",
    "        batch_size=30,\n",
    "        color_mode='rgb',\n",
    "        class_mode='categorical')"
   ]
  },
  {
   "cell_type": "code",
   "execution_count": 31,
   "metadata": {
    "scrolled": false
   },
   "outputs": [
    {
     "name": "stdout",
     "output_type": "stream",
     "text": [
      "data batch shape: (30, 200, 100, 3)\n",
      "labels batch shape: (30, 4)\n"
     ]
    }
   ],
   "source": [
    "\n",
    "for data_batch, labels_batch in train_generator:\n",
    "    print('data batch shape:', data_batch.shape)\n",
    "    print('labels batch shape:', labels_batch.shape)\n",
    "    break"
   ]
  },
  {
   "cell_type": "markdown",
   "metadata": {},
   "source": [
    "## Model Fitting"
   ]
  },
  {
   "cell_type": "code",
   "execution_count": 32,
   "metadata": {
    "scrolled": false
   },
   "outputs": [
    {
     "name": "stdout",
     "output_type": "stream",
     "text": [
      "Epoch 1/30\n",
      "96/96 [==============================] - 78s 812ms/step - loss: 1.0783 - acc: 0.5295 - val_loss: 0.8403 - val_acc: 0.6597\n",
      "Epoch 2/30\n",
      "96/96 [==============================] - 76s 797ms/step - loss: 0.8419 - acc: 0.6726 - val_loss: 0.8215 - val_acc: 0.6778\n",
      "Epoch 3/30\n",
      "96/96 [==============================] - 76s 797ms/step - loss: 0.7730 - acc: 0.6924 - val_loss: 0.7068 - val_acc: 0.7292\n",
      "Epoch 4/30\n",
      "96/96 [==============================] - 76s 795ms/step - loss: 0.7137 - acc: 0.7292 - val_loss: 0.7039 - val_acc: 0.7181\n",
      "Epoch 5/30\n",
      "96/96 [==============================] - 76s 794ms/step - loss: 0.6761 - acc: 0.7368 - val_loss: 0.6375 - val_acc: 0.7611\n",
      "Epoch 6/30\n",
      "96/96 [==============================] - 76s 796ms/step - loss: 0.6472 - acc: 0.7531 - val_loss: 0.6436 - val_acc: 0.7472\n",
      "Epoch 7/30\n",
      "96/96 [==============================] - 76s 797ms/step - loss: 0.6261 - acc: 0.7632 - val_loss: 0.6489 - val_acc: 0.7542\n",
      "Epoch 8/30\n",
      "96/96 [==============================] - 77s 798ms/step - loss: 0.6002 - acc: 0.7764 - val_loss: 0.6716 - val_acc: 0.7403\n",
      "Epoch 9/30\n",
      "96/96 [==============================] - 76s 795ms/step - loss: 0.5921 - acc: 0.7767 - val_loss: 0.6376 - val_acc: 0.7542\n",
      "Epoch 10/30\n",
      "96/96 [==============================] - 77s 797ms/step - loss: 0.5936 - acc: 0.7792 - val_loss: 0.6294 - val_acc: 0.7486\n",
      "Epoch 11/30\n",
      "96/96 [==============================] - 76s 792ms/step - loss: 0.5825 - acc: 0.7844 - val_loss: 0.5948 - val_acc: 0.7722\n",
      "Epoch 12/30\n",
      "96/96 [==============================] - 81s 848ms/step - loss: 0.5785 - acc: 0.7830 - val_loss: 0.6604 - val_acc: 0.7292\n",
      "Epoch 13/30\n",
      "96/96 [==============================] - 76s 795ms/step - loss: 0.5634 - acc: 0.7934 - val_loss: 0.6092 - val_acc: 0.7667\n",
      "Epoch 14/30\n",
      "96/96 [==============================] - 76s 796ms/step - loss: 0.5500 - acc: 0.8007 - val_loss: 0.5865 - val_acc: 0.7792\n",
      "Epoch 15/30\n",
      "96/96 [==============================] - 76s 792ms/step - loss: 0.5408 - acc: 0.7958 - val_loss: 0.5875 - val_acc: 0.7708\n",
      "Epoch 16/30\n",
      "96/96 [==============================] - 76s 795ms/step - loss: 0.5206 - acc: 0.8101 - val_loss: 0.5802 - val_acc: 0.7736\n",
      "Epoch 17/30\n",
      "96/96 [==============================] - 77s 799ms/step - loss: 0.5258 - acc: 0.8066 - val_loss: 0.5638 - val_acc: 0.7681\n",
      "Epoch 18/30\n",
      "96/96 [==============================] - 76s 795ms/step - loss: 0.5183 - acc: 0.8066 - val_loss: 0.5843 - val_acc: 0.7708\n",
      "Epoch 19/30\n",
      "96/96 [==============================] - 76s 795ms/step - loss: 0.5161 - acc: 0.8135 - val_loss: 0.5832 - val_acc: 0.7569\n",
      "Epoch 20/30\n",
      "96/96 [==============================] - 76s 795ms/step - loss: 0.5069 - acc: 0.8115 - val_loss: 0.5635 - val_acc: 0.7736\n",
      "Epoch 21/30\n",
      "96/96 [==============================] - 76s 797ms/step - loss: 0.4969 - acc: 0.8170 - val_loss: 0.5529 - val_acc: 0.7833\n",
      "Epoch 22/30\n",
      "96/96 [==============================] - 77s 799ms/step - loss: 0.4990 - acc: 0.8101 - val_loss: 0.5673 - val_acc: 0.7833\n",
      "Epoch 23/30\n",
      "96/96 [==============================] - 77s 798ms/step - loss: 0.4861 - acc: 0.8139 - val_loss: 0.5522 - val_acc: 0.7736\n",
      "Epoch 24/30\n",
      "96/96 [==============================] - 76s 796ms/step - loss: 0.4832 - acc: 0.8253 - val_loss: 0.5464 - val_acc: 0.7903\n",
      "Epoch 25/30\n",
      "96/96 [==============================] - 77s 802ms/step - loss: 0.4886 - acc: 0.8222 - val_loss: 0.5531 - val_acc: 0.7833\n",
      "Epoch 26/30\n",
      "96/96 [==============================] - 76s 795ms/step - loss: 0.4720 - acc: 0.8222 - val_loss: 0.5589 - val_acc: 0.7750\n",
      "Epoch 27/30\n",
      "96/96 [==============================] - 76s 795ms/step - loss: 0.4645 - acc: 0.8271 - val_loss: 0.5613 - val_acc: 0.7819\n",
      "Epoch 28/30\n",
      "96/96 [==============================] - 77s 797ms/step - loss: 0.4696 - acc: 0.8264 - val_loss: 0.5288 - val_acc: 0.7819\n",
      "Epoch 29/30\n",
      "96/96 [==============================] - 76s 794ms/step - loss: 0.4627 - acc: 0.8281 - val_loss: 0.5320 - val_acc: 0.7736\n",
      "Epoch 30/30\n",
      "96/96 [==============================] - 76s 795ms/step - loss: 0.4537 - acc: 0.8365 - val_loss: 0.5481 - val_acc: 0.7931\n"
     ]
    }
   ],
   "source": [
    "history = model.fit_generator(\n",
    "      train_generator,\n",
    "      steps_per_epoch=96,\n",
    "      epochs=30,\n",
    "      validation_data=validation_generator,\n",
    "      validation_steps=24)"
   ]
  },
  {
   "cell_type": "code",
   "execution_count": null,
   "metadata": {},
   "outputs": [],
   "source": [
    "model.save('PredictingTrafficConditionsHazards_l_sc_1_b30.h5')"
   ]
  },
  {
   "cell_type": "markdown",
   "metadata": {},
   "source": [
    "## Plotting Training and validation Accuracy and loss"
   ]
  },
  {
   "cell_type": "code",
   "execution_count": 34,
   "metadata": {},
   "outputs": [
    {
     "data": {
      "text/plain": [
       "<Figure size 640x480 with 1 Axes>"
      ]
     },
     "metadata": {},
     "output_type": "display_data"
    },
    {
     "data": {
      "text/plain": [
       "<Figure size 640x480 with 1 Axes>"
      ]
     },
     "metadata": {},
     "output_type": "display_data"
    }
   ],
   "source": [
    "import matplotlib.pyplot as plt\n",
    "\n",
    "acc = history.history['acc']\n",
    "val_acc = history.history['val_acc']\n",
    "loss = history.history['loss']\n",
    "val_loss = history.history['val_loss']\n",
    "\n",
    "epochs = range(len(acc))\n",
    "\n",
    "plt.plot(epochs, acc, 'bo', label='Training acc')\n",
    "plt.plot(epochs, val_acc, 'b', label='Validation acc')\n",
    "plt.title('Training and validation accuracy')\n",
    "plt.legend()\n",
    "\n",
    "plt.figure()\n",
    "\n",
    "plt.plot(epochs, loss, 'bo', label='Training loss')\n",
    "plt.plot(epochs, val_loss, 'b', label='Validation loss')\n",
    "plt.title('Training and validation loss')\n",
    "plt.legend()\n",
    "\n",
    "plt.show()"
   ]
  },
  {
   "cell_type": "code",
   "execution_count": 35,
   "metadata": {},
   "outputs": [
    {
     "name": "stdout",
     "output_type": "stream",
     "text": [
      "Found 800 images belonging to 4 classes.\n"
     ]
    }
   ],
   "source": [
    "tester_datagen = ImageDataGenerator(rescale=1./255)\n",
    "\n",
    "test_generator = tester_datagen.flow_from_directory(\n",
    "        test_dir,\n",
    "        target_size=(200, 100),\n",
    "        batch_size=1,\n",
    "        class_mode='categorical',\n",
    "        shuffle = 'False')\n",
    "\n",
    "results = model.evaluate_generator(test_generator,workers=6,steps=800 )"
   ]
  },
  {
   "cell_type": "code",
   "execution_count": 36,
   "metadata": {},
   "outputs": [
    {
     "name": "stdout",
     "output_type": "stream",
     "text": [
      "[0.6210313769386994, 0.77875]\n"
     ]
    }
   ],
   "source": [
    "print(results)"
   ]
  },
  {
   "cell_type": "code",
   "execution_count": null,
   "metadata": {},
   "outputs": [],
   "source": []
  }
 ],
 "metadata": {
  "kernelspec": {
   "display_name": "Python 3",
   "language": "python",
   "name": "python3"
  },
  "language_info": {
   "codemirror_mode": {
    "name": "ipython",
    "version": 3
   },
   "file_extension": ".py",
   "mimetype": "text/x-python",
   "name": "python",
   "nbconvert_exporter": "python",
   "pygments_lexer": "ipython3",
   "version": "3.7.4"
  }
 },
 "nbformat": 4,
 "nbformat_minor": 2
}
