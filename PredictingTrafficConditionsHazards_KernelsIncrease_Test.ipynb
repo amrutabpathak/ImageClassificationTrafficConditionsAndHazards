{
 "cells": [
  {
   "cell_type": "code",
   "execution_count": 71,
   "metadata": {
    "scrolled": true
   },
   "outputs": [
    {
     "data": {
      "text/plain": [
       "'2.2.4'"
      ]
     },
     "execution_count": 71,
     "metadata": {},
     "output_type": "execute_result"
    }
   ],
   "source": [
    "import keras\n",
    "keras.__version__"
   ]
  },
  {
   "cell_type": "markdown",
   "metadata": {},
   "source": [
    "# Classifying traffic conditions or hazards: a multi-class classification example\n"
   ]
  },
  {
   "cell_type": "code",
   "execution_count": 72,
   "metadata": {},
   "outputs": [],
   "source": [
    "import os, shutil, random"
   ]
  },
  {
   "cell_type": "code",
   "execution_count": 5,
   "metadata": {},
   "outputs": [],
   "source": [
    "# The path to the directory where the original\n",
    "# dataset was uncompressed\n",
    "original_dataset_dir = r'./trafficnet_dataset_v1'\n",
    "\n",
    "\n",
    "train_dir = os.path.join(original_dataset_dir, 'train')\n",
    "validation_dir = os.path.join(original_dataset_dir, 'validation')\n",
    "test_dir = os.path.join(original_dataset_dir, 'test')\n",
    "os.mkdir(validation_dir)\n",
    "\n",
    "accident_train_dir = os.path.join(train_dir, 'accident')\n",
    "dense_traffic_train_dir = os.path.join(train_dir, 'dense_traffic')\n",
    "fire_train_dir = os.path.join(train_dir, 'fire')\n",
    "sparse_traffic_train_dir = os.path.join(train_dir, 'sparse_traffic')\n",
    "\n",
    "accident_test_dir = os.path.join(test_dir, 'accident')\n",
    "dense_traffic_test_dir = os.path.join(test_dir, 'dense_traffic')\n",
    "fire_test_dir = os.path.join(test_dir, 'fire')\n",
    "sparse_traffic_test_dir = os.path.join(test_dir, 'sparse_traffic')\n",
    "\n",
    "# Directory with our validation accident pictures\n",
    "validation_accident_dir = os.path.join(validation_dir, 'accident')\n",
    "os.mkdir(validation_accident_dir)\n",
    "validation_dense_traffic_dir = os.path.join(validation_dir, 'dense_traffic')\n",
    "os.mkdir(validation_dense_traffic_dir)\n",
    "validation_fire_dir = os.path.join(validation_dir, 'fire')\n",
    "os.mkdir(validation_fire_dir)\n",
    "validation_sparse_traffic_dir = os.path.join(validation_dir, 'sparse_traffic')\n",
    "os.mkdir(validation_sparse_traffic_dir)\n",
    "\n"
   ]
  },
  {
   "cell_type": "code",
   "execution_count": 73,
   "metadata": {
    "scrolled": true
   },
   "outputs": [
    {
     "name": "stdout",
     "output_type": "stream",
     "text": [
      "total training accident images: 720\n",
      "total training dense traffic images: 720\n",
      "total training fire images: 720\n",
      "total training sparse traffic images: 721\n",
      "\n",
      "\n",
      "total test accident images: 200\n",
      "total test dense traffic images: 200\n",
      "total test fire images: 200\n",
      "total test sparse traffic images: 200\n"
     ]
    }
   ],
   "source": [
    "print('total training accident images:', len(os.listdir(accident_train_dir)))\n",
    "print('total training dense traffic images:', len(os.listdir(dense_traffic_train_dir)))\n",
    "print('total training fire images:', len(os.listdir(fire_train_dir)))\n",
    "print('total training sparse traffic images:', len(os.listdir(sparse_traffic_train_dir)))\n",
    "print(\"\\n\")\n",
    "print('total test accident images:', len(os.listdir(accident_test_dir)))\n",
    "print('total test dense traffic images:', len(os.listdir(dense_traffic_test_dir)))\n",
    "print('total test fire images:', len(os.listdir(fire_test_dir)))\n",
    "print('total test sparse traffic images:', len(os.listdir(sparse_traffic_test_dir)))"
   ]
  },
  {
   "cell_type": "code",
   "execution_count": 7,
   "metadata": {},
   "outputs": [
    {
     "name": "stdout",
     "output_type": "stream",
     "text": [
      "validation_accident_len 180\n",
      "validation_dense_traffic_len 180\n",
      "validation_fire_len 180\n",
      "validation_sparse_traffic_len 180\n"
     ]
    }
   ],
   "source": [
    "#Taking a 80:20 split of training and validation data\n",
    "\n",
    "validation_accident_len = int(len(os.listdir(accident_train_dir)) * 0.2)\n",
    "print('validation_accident_len', validation_accident_len)\n",
    "\n",
    "validation_dense_traffic_len = int(len(os.listdir(dense_traffic_train_dir)) * 0.2)\n",
    "print('validation_dense_traffic_len', validation_dense_traffic_len)\n",
    "validation_fire_len = int(len(os.listdir(fire_train_dir)) * 0.2)\n",
    "print('validation_fire_len', validation_fire_len)\n",
    "validation_sparse_traffic_len = int(len(os.listdir(sparse_traffic_train_dir)) * 0.2)\n",
    "print('validation_sparse_traffic_len', validation_sparse_traffic_len)\n",
    "\n",
    "\n"
   ]
  },
  {
   "cell_type": "code",
   "execution_count": 9,
   "metadata": {},
   "outputs": [],
   "source": [
    "# Adding images to validation directory\n",
    "training_accident_files = os.listdir(accident_train_dir)\n",
    "training_dense_traffic_files = os.listdir(dense_traffic_train_dir)\n",
    "training_fire_files = os.listdir(fire_train_dir)\n",
    "training_sparse_traffic_files = os.listdir(sparse_traffic_train_dir)\n",
    "#print( random.sample(training_accident_files,validation_accident_len ))\n",
    "\n",
    "\n",
    "for accident_img_file in random.sample(training_accident_files,validation_accident_len ):\n",
    "    srcFile = os.path.join(accident_train_dir,  accident_img_file)\n",
    "    shutil.move(srcFile,validation_accident_dir )\n",
    "    \n",
    "for dense_traffic_img_file in random.sample(training_dense_traffic_files,validation_dense_traffic_len ):\n",
    "    srcFile = os.path.join(dense_traffic_train_dir,  dense_traffic_img_file)\n",
    "    shutil.move(srcFile,validation_dense_traffic_dir )\n",
    "    \n",
    "for fire_img_file in random.sample(training_fire_files,validation_fire_len ):\n",
    "    srcFile = os.path.join(fire_train_dir ,  fire_img_file)\n",
    "    shutil.move(srcFile,validation_fire_dir )\n",
    "    \n",
    "for sparse_traffic_img_file in random.sample(training_sparse_traffic_files,validation_sparse_traffic_len ):\n",
    "    srcFile = os.path.join(sparse_traffic_train_dir,  sparse_traffic_img_file)\n",
    "    shutil.move(srcFile,validation_sparse_traffic_dir )  \n"
   ]
  },
  {
   "cell_type": "code",
   "execution_count": 74,
   "metadata": {
    "scrolled": false
   },
   "outputs": [
    {
     "name": "stdout",
     "output_type": "stream",
     "text": [
      "total validation accident images: 181\n",
      "total validation dense traffic images: 180\n",
      "total validation fire images: 180\n",
      "total validation sparse traffic images: 180\n"
     ]
    }
   ],
   "source": [
    "print('total validation accident images:', len(os.listdir(validation_accident_dir)))\n",
    "print('total validation dense traffic images:', len(os.listdir(validation_dense_traffic_dir)))\n",
    "print('total validation fire images:', len(os.listdir(validation_fire_dir)))\n",
    "print('total validation sparse traffic images:', len(os.listdir(validation_sparse_traffic_dir)))"
   ]
  },
  {
   "cell_type": "markdown",
   "metadata": {},
   "source": [
    "## Building our network\n"
   ]
  },
  {
   "cell_type": "code",
   "execution_count": 81,
   "metadata": {},
   "outputs": [],
   "source": [
    "from keras import layers\n",
    "from keras import models\n",
    "\n",
    "model = models.Sequential()\n",
    "model.add(layers.Conv2D(32, (3, 3), activation='relu',\n",
    "                        input_shape=(150, 150, 3)))\n",
    "model.add(layers.MaxPooling2D((2, 2)))\n",
    "model.add(layers.Conv2D(64, (3, 3), activation='relu'))\n",
    "model.add(layers.MaxPooling2D((2, 2)))\n",
    "model.add(layers.Conv2D(128, (5, 5), activation='relu'))\n",
    "model.add(layers.MaxPooling2D((2, 2)))\n",
    "model.add(layers.Conv2D(128, (7, 7), activation='relu'))\n",
    "model.add(layers.MaxPooling2D((2, 2)))\n",
    "#model.add(layers.Conv2D(256, (3, 3), activation='relu'))\n",
    "#model.add(layers.MaxPooling2D((2, 2)))\n",
    "model.add(layers.Flatten())\n",
    "model.add(layers.Dense(512, activation='relu'))\n",
    "model.add(layers.Dense(4, activation='softmax'))"
   ]
  },
  {
   "cell_type": "code",
   "execution_count": 82,
   "metadata": {},
   "outputs": [
    {
     "name": "stdout",
     "output_type": "stream",
     "text": [
      "_________________________________________________________________\n",
      "Layer (type)                 Output Shape              Param #   \n",
      "=================================================================\n",
      "conv2d_34 (Conv2D)           (None, 148, 148, 32)      896       \n",
      "_________________________________________________________________\n",
      "max_pooling2d_34 (MaxPooling (None, 74, 74, 32)        0         \n",
      "_________________________________________________________________\n",
      "conv2d_35 (Conv2D)           (None, 72, 72, 64)        18496     \n",
      "_________________________________________________________________\n",
      "max_pooling2d_35 (MaxPooling (None, 36, 36, 64)        0         \n",
      "_________________________________________________________________\n",
      "conv2d_36 (Conv2D)           (None, 32, 32, 128)       204928    \n",
      "_________________________________________________________________\n",
      "max_pooling2d_36 (MaxPooling (None, 16, 16, 128)       0         \n",
      "_________________________________________________________________\n",
      "conv2d_37 (Conv2D)           (None, 10, 10, 128)       802944    \n",
      "_________________________________________________________________\n",
      "max_pooling2d_37 (MaxPooling (None, 5, 5, 128)         0         \n",
      "_________________________________________________________________\n",
      "flatten_9 (Flatten)          (None, 3200)              0         \n",
      "_________________________________________________________________\n",
      "dense_17 (Dense)             (None, 512)               1638912   \n",
      "_________________________________________________________________\n",
      "dense_18 (Dense)             (None, 4)                 2052      \n",
      "=================================================================\n",
      "Total params: 2,668,228\n",
      "Trainable params: 2,668,228\n",
      "Non-trainable params: 0\n",
      "_________________________________________________________________\n"
     ]
    }
   ],
   "source": [
    "model.summary()"
   ]
  },
  {
   "cell_type": "markdown",
   "metadata": {},
   "source": [
    "Compilation, loss function and optimiser selection"
   ]
  },
  {
   "cell_type": "code",
   "execution_count": 83,
   "metadata": {},
   "outputs": [],
   "source": [
    "from keras import optimizers\n",
    "\n",
    "model.compile(optimizer=optimizers.RMSprop(lr=1e-4),\n",
    "              loss='categorical_crossentropy',\n",
    "              metrics=['accuracy'])"
   ]
  },
  {
   "cell_type": "markdown",
   "metadata": {},
   "source": [
    "## Data preprocessing\n"
   ]
  },
  {
   "cell_type": "code",
   "execution_count": 84,
   "metadata": {},
   "outputs": [
    {
     "name": "stdout",
     "output_type": "stream",
     "text": [
      "Found 2881 images belonging to 4 classes.\n",
      "Found 720 images belonging to 4 classes.\n"
     ]
    }
   ],
   "source": [
    "from keras.preprocessing.image import ImageDataGenerator\n",
    "\n",
    "train_datagen = ImageDataGenerator(\n",
    "    rescale=1./255,\n",
    "    zoom_range=0.2,\n",
    "    horizontal_flip=True)\n",
    "\n",
    "validate_datagen = ImageDataGenerator(\n",
    "    rescale=1./255,\n",
    "    zoom_range=0.2,\n",
    "    horizontal_flip=True)\n",
    "\n",
    "train_generator = train_datagen.flow_from_directory(\n",
    "        # This is the target directory\n",
    "        train_dir,\n",
    "        # All images will be resized to 150x150\n",
    "        target_size=(150, 150),\n",
    "        batch_size=30,\n",
    "        color_mode='rgb',\n",
    "        class_mode='categorical')\n",
    "\n",
    "validation_generator = validate_datagen.flow_from_directory(\n",
    "        validation_dir,\n",
    "        target_size=(150, 150),\n",
    "        batch_size=30,\n",
    "        color_mode='rgb',\n",
    "        class_mode='categorical')"
   ]
  },
  {
   "cell_type": "code",
   "execution_count": 85,
   "metadata": {
    "scrolled": false
   },
   "outputs": [
    {
     "name": "stdout",
     "output_type": "stream",
     "text": [
      "data batch shape: (30, 150, 150, 3)\n",
      "labels batch shape: (30, 4)\n"
     ]
    }
   ],
   "source": [
    "\n",
    "for data_batch, labels_batch in train_generator:\n",
    "    print('data batch shape:', data_batch.shape)\n",
    "    print('labels batch shape:', labels_batch.shape)\n",
    "    break"
   ]
  },
  {
   "cell_type": "markdown",
   "metadata": {},
   "source": [
    "## Model Fitting"
   ]
  },
  {
   "cell_type": "code",
   "execution_count": 86,
   "metadata": {
    "scrolled": false
   },
   "outputs": [
    {
     "name": "stdout",
     "output_type": "stream",
     "text": [
      "Epoch 1/12\n",
      "96/96 [==============================] - 116s 1s/step - loss: 1.2267 - acc: 0.4348 - val_loss: 1.6648 - val_acc: 0.3097\n",
      "Epoch 2/12\n",
      "96/96 [==============================] - 116s 1s/step - loss: 0.9711 - acc: 0.5997 - val_loss: 0.9130 - val_acc: 0.6556\n",
      "Epoch 3/12\n",
      "96/96 [==============================] - 119s 1s/step - loss: 0.8740 - acc: 0.6430 - val_loss: 0.8042 - val_acc: 0.6583\n",
      "Epoch 4/12\n",
      "96/96 [==============================] - 114s 1s/step - loss: 0.8123 - acc: 0.6652 - val_loss: 1.0660 - val_acc: 0.6278\n",
      "Epoch 5/12\n",
      "96/96 [==============================] - 114s 1s/step - loss: 0.7925 - acc: 0.6838 - val_loss: 0.7942 - val_acc: 0.6625\n",
      "Epoch 6/12\n",
      "96/96 [==============================] - 115s 1s/step - loss: 0.7709 - acc: 0.7029 - val_loss: 0.7198 - val_acc: 0.7125\n",
      "Epoch 7/12\n",
      "96/96 [==============================] - 115s 1s/step - loss: 0.7250 - acc: 0.7205 - val_loss: 0.8089 - val_acc: 0.6861\n",
      "Epoch 8/12\n",
      "96/96 [==============================] - 115s 1s/step - loss: 0.6998 - acc: 0.7243 - val_loss: 0.7903 - val_acc: 0.7181\n",
      "Epoch 9/12\n",
      "96/96 [==============================] - 114s 1s/step - loss: 0.6658 - acc: 0.7437 - val_loss: 0.7607 - val_acc: 0.7194\n",
      "Epoch 10/12\n",
      "96/96 [==============================] - 114s 1s/step - loss: 0.6800 - acc: 0.7409 - val_loss: 0.7345 - val_acc: 0.7069\n",
      "Epoch 11/12\n",
      "96/96 [==============================] - 115s 1s/step - loss: 0.6242 - acc: 0.7604 - val_loss: 0.7823 - val_acc: 0.6861\n",
      "Epoch 12/12\n",
      "96/96 [==============================] - 115s 1s/step - loss: 0.6071 - acc: 0.7673 - val_loss: 0.7761 - val_acc: 0.7222\n"
     ]
    }
   ],
   "source": [
    "history = model.fit_generator(\n",
    "      train_generator,\n",
    "      steps_per_epoch=96,\n",
    "      epochs=12,\n",
    "      validation_data=validation_generator,\n",
    "      validation_steps=24)"
   ]
  },
  {
   "cell_type": "code",
   "execution_count": 87,
   "metadata": {},
   "outputs": [],
   "source": [
    "model.save('PredictingTrafficConditionsHazards_filterchange.h5')"
   ]
  },
  {
   "cell_type": "markdown",
   "metadata": {},
   "source": [
    "## Plotting Training and validation Accuracy and loss"
   ]
  },
  {
   "cell_type": "code",
   "execution_count": 88,
   "metadata": {},
   "outputs": [
    {
     "data": {
      "text/plain": [
       "<Figure size 640x480 with 1 Axes>"
      ]
     },
     "metadata": {},
     "output_type": "display_data"
    },
    {
     "data": {
      "text/plain": [
       "<Figure size 640x480 with 1 Axes>"
      ]
     },
     "metadata": {},
     "output_type": "display_data"
    }
   ],
   "source": [
    "import matplotlib.pyplot as plt\n",
    "\n",
    "acc = history.history['acc']\n",
    "val_acc = history.history['val_acc']\n",
    "loss = history.history['loss']\n",
    "val_loss = history.history['val_loss']\n",
    "\n",
    "epochs = range(len(acc))\n",
    "\n",
    "plt.plot(epochs, acc, 'bo', label='Training acc')\n",
    "plt.plot(epochs, val_acc, 'b', label='Validation acc')\n",
    "plt.title('Training and validation accuracy')\n",
    "plt.legend()\n",
    "\n",
    "plt.figure()\n",
    "\n",
    "plt.plot(epochs, loss, 'bo', label='Training loss')\n",
    "plt.plot(epochs, val_loss, 'b', label='Validation loss')\n",
    "plt.title('Training and validation loss')\n",
    "plt.legend()\n",
    "\n",
    "plt.show()"
   ]
  },
  {
   "cell_type": "code",
   "execution_count": 89,
   "metadata": {},
   "outputs": [
    {
     "name": "stdout",
     "output_type": "stream",
     "text": [
      "Found 800 images belonging to 4 classes.\n"
     ]
    }
   ],
   "source": [
    "tester_datagen = ImageDataGenerator(rescale=1./255)\n",
    "\n",
    "test_generator = tester_datagen.flow_from_directory(\n",
    "        test_dir,\n",
    "        target_size=(150, 150),\n",
    "        batch_size=1,\n",
    "        class_mode='categorical',\n",
    "        shuffle = 'False')\n",
    "\n",
    "results = model.evaluate_generator(test_generator,workers=6,steps=800 )"
   ]
  },
  {
   "cell_type": "code",
   "execution_count": 90,
   "metadata": {},
   "outputs": [
    {
     "name": "stdout",
     "output_type": "stream",
     "text": [
      "[0.907502467352475, 0.705]\n"
     ]
    }
   ],
   "source": [
    "print(results)"
   ]
  },
  {
   "cell_type": "code",
   "execution_count": null,
   "metadata": {},
   "outputs": [],
   "source": []
  }
 ],
 "metadata": {
  "kernelspec": {
   "display_name": "Python 3.5",
   "language": "python",
   "name": "python3"
  },
  "language_info": {
   "codemirror_mode": {
    "name": "ipython",
    "version": 3
   },
   "file_extension": ".py",
   "mimetype": "text/x-python",
   "name": "python",
   "nbconvert_exporter": "python",
   "pygments_lexer": "ipython3",
   "version": "3.5.5"
  }
 },
 "nbformat": 4,
 "nbformat_minor": 2
}
