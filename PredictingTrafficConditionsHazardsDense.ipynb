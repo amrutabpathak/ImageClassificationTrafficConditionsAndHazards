{
 "cells": [
  {
   "cell_type": "code",
   "execution_count": 1,
   "metadata": {},
   "outputs": [
    {
     "name": "stderr",
     "output_type": "stream",
     "text": [
      "Using TensorFlow backend.\n"
     ]
    },
    {
     "data": {
      "text/plain": [
       "'2.3.0'"
      ]
     },
     "execution_count": 1,
     "metadata": {},
     "output_type": "execute_result"
    }
   ],
   "source": [
    "import keras\n",
    "keras.__version__"
   ]
  },
  {
   "cell_type": "markdown",
   "metadata": {},
   "source": [
    "# Classifying traffic conditions or hazards: a multi-class classification example\n"
   ]
  },
  {
   "cell_type": "code",
   "execution_count": 4,
   "metadata": {},
   "outputs": [],
   "source": [
    "import os, shutil, random"
   ]
  },
  {
   "cell_type": "code",
   "execution_count": 5,
   "metadata": {},
   "outputs": [],
   "source": [
    "# The path to the directory where the original\n",
    "# dataset was uncompressed\n",
    "original_dataset_dir = r'./trafficnet_dataset_v1'\n",
    "\n",
    "\n",
    "train_dir = os.path.join(original_dataset_dir, 'train')\n",
    "validation_dir = os.path.join(original_dataset_dir, 'validation')\n",
    "test_dir = os.path.join(original_dataset_dir, 'test')\n",
    "os.mkdir(validation_dir)\n",
    "\n",
    "accident_train_dir = os.path.join(train_dir, 'accident')\n",
    "dense_traffic_train_dir = os.path.join(train_dir, 'dense_traffic')\n",
    "fire_train_dir = os.path.join(train_dir, 'fire')\n",
    "sparse_traffic_train_dir = os.path.join(train_dir, 'sparse_traffic')\n",
    "\n",
    "accident_test_dir = os.path.join(test_dir, 'accident')\n",
    "dense_traffic_test_dir = os.path.join(test_dir, 'dense_traffic')\n",
    "fire_test_dir = os.path.join(test_dir, 'fire')\n",
    "sparse_traffic_test_dir = os.path.join(test_dir, 'sparse_traffic')\n",
    "\n",
    "# Directory with our validation accident pictures\n",
    "validation_accident_dir = os.path.join(validation_dir, 'accident')\n",
    "os.mkdir(validation_accident_dir)\n",
    "validation_dense_traffic_dir = os.path.join(validation_dir, 'dense_traffic')\n",
    "os.mkdir(validation_dense_traffic_dir)\n",
    "validation_fire_dir = os.path.join(validation_dir, 'fire')\n",
    "os.mkdir(validation_fire_dir)\n",
    "validation_sparse_traffic_dir = os.path.join(validation_dir, 'sparse_traffic')\n",
    "os.mkdir(validation_sparse_traffic_dir)\n",
    "\n"
   ]
  },
  {
   "cell_type": "code",
   "execution_count": 6,
   "metadata": {
    "scrolled": true
   },
   "outputs": [
    {
     "name": "stdout",
     "output_type": "stream",
     "text": [
      "total training accident images: 900\n",
      "total training dense traffic images: 900\n",
      "total training fire images: 900\n",
      "total training sparse traffic images: 901\n",
      "\n",
      "\n",
      "total test accident images: 200\n",
      "total test dense traffic images: 200\n",
      "total test fire images: 200\n",
      "total test sparse traffic images: 200\n"
     ]
    }
   ],
   "source": [
    "print('total training accident images:', len(os.listdir(accident_train_dir)))\n",
    "print('total training dense traffic images:', len(os.listdir(dense_traffic_train_dir)))\n",
    "print('total training fire images:', len(os.listdir(fire_train_dir)))\n",
    "print('total training sparse traffic images:', len(os.listdir(sparse_traffic_train_dir)))\n",
    "print(\"\\n\")\n",
    "print('total test accident images:', len(os.listdir(accident_test_dir)))\n",
    "print('total test dense traffic images:', len(os.listdir(dense_traffic_test_dir)))\n",
    "print('total test fire images:', len(os.listdir(fire_test_dir)))\n",
    "print('total test sparse traffic images:', len(os.listdir(sparse_traffic_test_dir)))"
   ]
  },
  {
   "cell_type": "code",
   "execution_count": 7,
   "metadata": {},
   "outputs": [
    {
     "name": "stdout",
     "output_type": "stream",
     "text": [
      "validation_accident_len 180\n",
      "validation_dense_traffic_len 180\n",
      "validation_fire_len 180\n",
      "validation_sparse_traffic_len 180\n"
     ]
    }
   ],
   "source": [
    "#Taking a 80:20 split of training and validation data\n",
    "\n",
    "validation_accident_len = int(len(os.listdir(accident_train_dir)) * 0.2)\n",
    "print('validation_accident_len', validation_accident_len)\n",
    "\n",
    "validation_dense_traffic_len = int(len(os.listdir(dense_traffic_train_dir)) * 0.2)\n",
    "print('validation_dense_traffic_len', validation_dense_traffic_len)\n",
    "validation_fire_len = int(len(os.listdir(fire_train_dir)) * 0.2)\n",
    "print('validation_fire_len', validation_fire_len)\n",
    "validation_sparse_traffic_len = int(len(os.listdir(sparse_traffic_train_dir)) * 0.2)\n",
    "print('validation_sparse_traffic_len', validation_sparse_traffic_len)\n",
    "\n",
    "\n"
   ]
  },
  {
   "cell_type": "code",
   "execution_count": 8,
   "metadata": {},
   "outputs": [],
   "source": [
    "# Adding images to validation directory\n",
    "training_accident_files = os.listdir(accident_train_dir)\n",
    "training_dense_traffic_files = os.listdir(dense_traffic_train_dir)\n",
    "training_fire_files = os.listdir(fire_train_dir)\n",
    "training_sparse_traffic_files = os.listdir(sparse_traffic_train_dir)\n",
    "#print( random.sample(training_accident_files,validation_accident_len ))\n",
    "\n",
    "\n",
    "for accident_img_file in random.sample(training_accident_files,validation_accident_len ):\n",
    "    srcFile = os.path.join(accident_train_dir,  accident_img_file)\n",
    "    shutil.move(srcFile,validation_accident_dir )\n",
    "    \n",
    "for dense_traffic_img_file in random.sample(training_dense_traffic_files,validation_dense_traffic_len ):\n",
    "    srcFile = os.path.join(dense_traffic_train_dir,  dense_traffic_img_file)\n",
    "    shutil.move(srcFile,validation_dense_traffic_dir )\n",
    "    \n",
    "for fire_img_file in random.sample(training_fire_files,validation_fire_len ):\n",
    "    srcFile = os.path.join(fire_train_dir ,  fire_img_file)\n",
    "    shutil.move(srcFile,validation_fire_dir )\n",
    "    \n",
    "for sparse_traffic_img_file in random.sample(training_sparse_traffic_files,validation_sparse_traffic_len ):\n",
    "    srcFile = os.path.join(sparse_traffic_train_dir,  sparse_traffic_img_file)\n",
    "    shutil.move(srcFile,validation_sparse_traffic_dir )  \n"
   ]
  },
  {
   "cell_type": "code",
   "execution_count": 38,
   "metadata": {
    "scrolled": true
   },
   "outputs": [
    {
     "name": "stdout",
     "output_type": "stream",
     "text": [
      "total validation accident images: 180\n",
      "total validation dense traffic images: 180\n",
      "total validation fire images: 180\n",
      "total validation sparse traffic images: 180\n"
     ]
    }
   ],
   "source": [
    "print('total validation accident images:', len(os.listdir(validation_accident_dir)))\n",
    "print('total validation dense traffic images:', len(os.listdir(validation_dense_traffic_dir)))\n",
    "print('total validation fire images:', len(os.listdir(validation_fire_dir)))\n",
    "print('total validation sparse traffic images:', len(os.listdir(validation_sparse_traffic_dir)))"
   ]
  },
  {
   "cell_type": "markdown",
   "metadata": {},
   "source": [
    "## Building our network\n"
   ]
  },
  {
   "cell_type": "code",
   "execution_count": 67,
   "metadata": {},
   "outputs": [],
   "source": [
    "from keras import layers\n",
    "from keras import models\n",
    "\n",
    "model = models.Sequential()\n",
    "model.add(layers.Flatten(input_shape=(150, 150, 3)))\n",
    "model.add(layers.Dense(512, activation='tanh'))\n",
    "model.add(layers.Dense(128, activation='tanh'))\n",
    "model.add(layers.Dense(4, activation='softmax'))"
   ]
  },
  {
   "cell_type": "code",
   "execution_count": 68,
   "metadata": {},
   "outputs": [
    {
     "name": "stdout",
     "output_type": "stream",
     "text": [
      "Model: \"sequential_14\"\n",
      "_________________________________________________________________\n",
      "Layer (type)                 Output Shape              Param #   \n",
      "=================================================================\n",
      "flatten_5 (Flatten)          (None, 67500)             0         \n",
      "_________________________________________________________________\n",
      "dense_16 (Dense)             (None, 512)               34560512  \n",
      "_________________________________________________________________\n",
      "dense_17 (Dense)             (None, 128)               65664     \n",
      "_________________________________________________________________\n",
      "dense_18 (Dense)             (None, 4)                 516       \n",
      "=================================================================\n",
      "Total params: 34,626,692\n",
      "Trainable params: 34,626,692\n",
      "Non-trainable params: 0\n",
      "_________________________________________________________________\n"
     ]
    }
   ],
   "source": [
    "model.summary()"
   ]
  },
  {
   "cell_type": "markdown",
   "metadata": {},
   "source": [
    "Compilation, loss function and optimiser selection"
   ]
  },
  {
   "cell_type": "code",
   "execution_count": 69,
   "metadata": {},
   "outputs": [],
   "source": [
    "from keras import optimizers\n",
    "\n",
    "model.compile(optimizer=optimizers.RMSprop(lr=1e-4),\n",
    "              loss='categorical_crossentropy',\n",
    "              metrics=['accuracy'])"
   ]
  },
  {
   "cell_type": "markdown",
   "metadata": {},
   "source": [
    "## Data preprocessing\n"
   ]
  },
  {
   "cell_type": "code",
   "execution_count": 70,
   "metadata": {},
   "outputs": [
    {
     "name": "stdout",
     "output_type": "stream",
     "text": [
      "Found 2880 images belonging to 4 classes.\n",
      "Found 720 images belonging to 4 classes.\n"
     ]
    }
   ],
   "source": [
    "from keras.preprocessing.image import ImageDataGenerator\n",
    "\n",
    "train_datagen = ImageDataGenerator(\n",
    "    rescale=1./255,\n",
    "    zoom_range=0.2,\n",
    "    horizontal_flip=True)\n",
    "validate_datagen = ImageDataGenerator(\n",
    "    rescale=1./255,\n",
    "    zoom_range=0.2,\n",
    "    horizontal_flip=True)\n",
    "\n",
    "train_generator = train_datagen.flow_from_directory(\n",
    "        # This is the target directory\n",
    "        train_dir,\n",
    "        # All images will be resized to 150x150\n",
    "        target_size=(150, 150),\n",
    "        batch_size=30,\n",
    "        class_mode='categorical')\n",
    "\n",
    "validation_generator = validate_datagen.flow_from_directory(\n",
    "        validation_dir,\n",
    "        target_size=(150, 150),\n",
    "        batch_size=30,\n",
    "        class_mode='categorical')"
   ]
  },
  {
   "cell_type": "code",
   "execution_count": 71,
   "metadata": {
    "scrolled": false
   },
   "outputs": [
    {
     "name": "stdout",
     "output_type": "stream",
     "text": [
      "data batch shape: (30, 150, 150, 3)\n",
      "labels batch shape: (30, 4)\n"
     ]
    }
   ],
   "source": [
    "\n",
    "for data_batch, labels_batch in train_generator:\n",
    "    print('data batch shape:', data_batch.shape)\n",
    "    print('labels batch shape:', labels_batch.shape)\n",
    "    break"
   ]
  },
  {
   "cell_type": "markdown",
   "metadata": {},
   "source": [
    "## Model Fitting"
   ]
  },
  {
   "cell_type": "code",
   "execution_count": 73,
   "metadata": {},
   "outputs": [
    {
     "name": "stdout",
     "output_type": "stream",
     "text": [
      "Epoch 1/30\n",
      "96/96 [==============================] - 39s 409ms/step - loss: 1.2603 - accuracy: 0.4035 - val_loss: 1.0408 - val_accuracy: 0.4111\n",
      "Epoch 2/30\n",
      "96/96 [==============================] - 41s 429ms/step - loss: 1.2452 - accuracy: 0.4247 - val_loss: 1.4301 - val_accuracy: 0.3125\n",
      "Epoch 3/30\n",
      "96/96 [==============================] - 41s 424ms/step - loss: 1.2378 - accuracy: 0.4160 - val_loss: 1.1878 - val_accuracy: 0.4444\n",
      "Epoch 4/30\n",
      "96/96 [==============================] - 38s 397ms/step - loss: 1.2192 - accuracy: 0.4399 - val_loss: 1.2655 - val_accuracy: 0.3611\n",
      "Epoch 5/30\n",
      "96/96 [==============================] - 41s 422ms/step - loss: 1.2018 - accuracy: 0.4469 - val_loss: 1.2418 - val_accuracy: 0.4194\n",
      "Epoch 6/30\n",
      "96/96 [==============================] - 42s 442ms/step - loss: 1.1934 - accuracy: 0.4490 - val_loss: 1.1349 - val_accuracy: 0.4264\n",
      "Epoch 7/30\n",
      "96/96 [==============================] - 40s 414ms/step - loss: 1.1966 - accuracy: 0.4417 - val_loss: 1.1218 - val_accuracy: 0.4458\n",
      "Epoch 8/30\n",
      "96/96 [==============================] - 39s 408ms/step - loss: 1.1914 - accuracy: 0.4497 - val_loss: 1.3485 - val_accuracy: 0.3806\n",
      "Epoch 9/30\n",
      "96/96 [==============================] - 39s 409ms/step - loss: 1.1657 - accuracy: 0.4542 - val_loss: 1.1775 - val_accuracy: 0.4153\n",
      "Epoch 10/30\n",
      "96/96 [==============================] - 45s 465ms/step - loss: 1.1705 - accuracy: 0.4649 - val_loss: 1.0695 - val_accuracy: 0.4667\n",
      "Epoch 11/30\n",
      "96/96 [==============================] - 38s 391ms/step - loss: 1.1502 - accuracy: 0.4667 - val_loss: 1.2643 - val_accuracy: 0.4347\n",
      "Epoch 12/30\n",
      "96/96 [==============================] - 39s 410ms/step - loss: 1.1356 - accuracy: 0.4875 - val_loss: 1.2947 - val_accuracy: 0.4278\n",
      "Epoch 13/30\n",
      "96/96 [==============================] - 42s 436ms/step - loss: 1.1367 - accuracy: 0.4872 - val_loss: 1.3509 - val_accuracy: 0.4569\n",
      "Epoch 14/30\n",
      "96/96 [==============================] - 37s 387ms/step - loss: 1.1447 - accuracy: 0.4806 - val_loss: 1.4306 - val_accuracy: 0.4542\n",
      "Epoch 15/30\n",
      "96/96 [==============================] - 40s 417ms/step - loss: 1.1341 - accuracy: 0.4872 - val_loss: 1.1296 - val_accuracy: 0.3889\n",
      "Epoch 16/30\n",
      "96/96 [==============================] - 38s 393ms/step - loss: 1.1297 - accuracy: 0.4726 - val_loss: 1.0938 - val_accuracy: 0.4347\n",
      "Epoch 17/30\n",
      "96/96 [==============================] - 40s 418ms/step - loss: 1.1338 - accuracy: 0.4833 - val_loss: 1.0469 - val_accuracy: 0.4500\n",
      "Epoch 18/30\n",
      "96/96 [==============================] - 39s 402ms/step - loss: 1.1094 - accuracy: 0.5052 - val_loss: 1.1396 - val_accuracy: 0.4667\n",
      "Epoch 19/30\n",
      "96/96 [==============================] - 42s 437ms/step - loss: 1.1244 - accuracy: 0.5073 - val_loss: 1.2512 - val_accuracy: 0.4250\n",
      "Epoch 20/30\n",
      "96/96 [==============================] - 39s 403ms/step - loss: 1.1236 - accuracy: 0.5010 - val_loss: 1.1910 - val_accuracy: 0.4625\n",
      "Epoch 21/30\n",
      "96/96 [==============================] - 38s 395ms/step - loss: 1.1209 - accuracy: 0.5024 - val_loss: 1.2607 - val_accuracy: 0.4875\n",
      "Epoch 22/30\n",
      "96/96 [==============================] - 41s 423ms/step - loss: 1.1059 - accuracy: 0.5139 - val_loss: 1.0618 - val_accuracy: 0.4681\n",
      "Epoch 23/30\n",
      "96/96 [==============================] - 40s 414ms/step - loss: 1.1139 - accuracy: 0.5028 - val_loss: 1.1543 - val_accuracy: 0.4694\n",
      "Epoch 24/30\n",
      "96/96 [==============================] - 45s 466ms/step - loss: 1.0944 - accuracy: 0.5003 - val_loss: 1.4193 - val_accuracy: 0.4875\n",
      "Epoch 25/30\n",
      "96/96 [==============================] - 44s 454ms/step - loss: 1.1001 - accuracy: 0.5083 - val_loss: 1.2188 - val_accuracy: 0.4569\n",
      "Epoch 26/30\n",
      "96/96 [==============================] - 50s 521ms/step - loss: 1.0990 - accuracy: 0.5149 - val_loss: 1.4598 - val_accuracy: 0.4333\n",
      "Epoch 27/30\n",
      "96/96 [==============================] - 44s 454ms/step - loss: 1.0910 - accuracy: 0.5076 - val_loss: 0.9951 - val_accuracy: 0.4597\n",
      "Epoch 28/30\n",
      "96/96 [==============================] - 42s 435ms/step - loss: 1.0925 - accuracy: 0.5170 - val_loss: 1.0796 - val_accuracy: 0.4944\n",
      "Epoch 29/30\n",
      "96/96 [==============================] - 42s 442ms/step - loss: 1.0826 - accuracy: 0.5302 - val_loss: 1.1921 - val_accuracy: 0.4514\n",
      "Epoch 30/30\n",
      "96/96 [==============================] - 44s 457ms/step - loss: 1.0997 - accuracy: 0.5101 - val_loss: 1.5695 - val_accuracy: 0.4917\n"
     ]
    }
   ],
   "source": [
    "history = model.fit_generator(\n",
    "      train_generator,\n",
    "      steps_per_epoch=96,\n",
    "      epochs=30,\n",
    "      validation_data=validation_generator,\n",
    "      validation_steps=24)"
   ]
  },
  {
   "cell_type": "code",
   "execution_count": null,
   "metadata": {},
   "outputs": [],
   "source": [
    "model.save('PredictingTrafficConditionsHazards_convLayerIncrease.h5')"
   ]
  },
  {
   "cell_type": "markdown",
   "metadata": {},
   "source": [
    "## Plotting Training and validation Accuracy and loss"
   ]
  },
  {
   "cell_type": "code",
   "execution_count": null,
   "metadata": {},
   "outputs": [],
   "source": [
    "tester_datagen = ImageDataGenerator(rescale=1./255)\n",
    "\n",
    "test_generator = tester_datagen.flow_from_directory(\n",
    "        test_dir,\n",
    "        target_size=(150, 150),\n",
    "        batch_size=1,\n",
    "        class_mode='categorical',\n",
    "        shuffle = 'False')\n",
    "\n",
    "results = model.evaluate_generator(test_generator,workers=6,steps=800 )"
   ]
  },
  {
   "cell_type": "code",
   "execution_count": null,
   "metadata": {
    "scrolled": true
   },
   "outputs": [],
   "source": [
    "print(results)"
   ]
  },
  {
   "cell_type": "code",
   "execution_count": null,
   "metadata": {},
   "outputs": [],
   "source": [
    "model.save('PredictingTrafficConditionsHazards_2.h5')"
   ]
  }
 ],
 "metadata": {
  "kernelspec": {
   "display_name": "Python 3",
   "language": "python",
   "name": "python3"
  },
  "language_info": {
   "codemirror_mode": {
    "name": "ipython",
    "version": 3
   },
   "file_extension": ".py",
   "mimetype": "text/x-python",
   "name": "python",
   "nbconvert_exporter": "python",
   "pygments_lexer": "ipython3",
   "version": "3.7.4"
  }
 },
 "nbformat": 4,
 "nbformat_minor": 2
}
