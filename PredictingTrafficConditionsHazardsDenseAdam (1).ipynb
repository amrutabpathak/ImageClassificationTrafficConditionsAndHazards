{
 "cells": [
  {
   "cell_type": "code",
   "execution_count": 22,
   "metadata": {},
   "outputs": [
    {
     "data": {
      "text/plain": [
       "'2.3.0'"
      ]
     },
     "execution_count": 22,
     "metadata": {},
     "output_type": "execute_result"
    }
   ],
   "source": [
    "import keras\n",
    "keras.__version__"
   ]
  },
  {
   "cell_type": "markdown",
   "metadata": {},
   "source": [
    "# Classifying traffic conditions or hazards: a multi-class classification example\n"
   ]
  },
  {
   "cell_type": "code",
   "execution_count": 23,
   "metadata": {},
   "outputs": [],
   "source": [
    "import os, shutil, random"
   ]
  },
  {
   "cell_type": "code",
   "execution_count": 24,
   "metadata": {},
   "outputs": [],
   "source": [
    "# The path to the directory where the original\n",
    "# dataset was uncompressed\n",
    "original_dataset_dir = r'./trafficnet_dataset_v1'\n",
    "\n",
    "\n",
    "train_dir = os.path.join(original_dataset_dir, 'train')\n",
    "validation_dir = os.path.join(original_dataset_dir, 'validation')\n",
    "test_dir = os.path.join(original_dataset_dir, 'test')\n",
    "os.mkdir(validation_dir)\n",
    "\n",
    "accident_train_dir = os.path.join(train_dir, 'accident')\n",
    "dense_traffic_train_dir = os.path.join(train_dir, 'dense_traffic')\n",
    "fire_train_dir = os.path.join(train_dir, 'fire')\n",
    "sparse_traffic_train_dir = os.path.join(train_dir, 'sparse_traffic')\n",
    "\n",
    "accident_test_dir = os.path.join(test_dir, 'accident')\n",
    "dense_traffic_test_dir = os.path.join(test_dir, 'dense_traffic')\n",
    "fire_test_dir = os.path.join(test_dir, 'fire')\n",
    "sparse_traffic_test_dir = os.path.join(test_dir, 'sparse_traffic')\n",
    "\n",
    "# Directory with our validation accident pictures\n",
    "validation_accident_dir = os.path.join(validation_dir, 'accident')\n",
    "os.mkdir(validation_accident_dir)\n",
    "validation_dense_traffic_dir = os.path.join(validation_dir, 'dense_traffic')\n",
    "os.mkdir(validation_dense_traffic_dir)\n",
    "validation_fire_dir = os.path.join(validation_dir, 'fire')\n",
    "os.mkdir(validation_fire_dir)\n",
    "validation_sparse_traffic_dir = os.path.join(validation_dir, 'sparse_traffic')\n",
    "os.mkdir(validation_sparse_traffic_dir)\n",
    "\n"
   ]
  },
  {
   "cell_type": "code",
   "execution_count": 25,
   "metadata": {
    "scrolled": true
   },
   "outputs": [
    {
     "name": "stdout",
     "output_type": "stream",
     "text": [
      "total training accident images: 900\n",
      "total training dense traffic images: 900\n",
      "total training fire images: 900\n",
      "total training sparse traffic images: 901\n",
      "\n",
      "\n",
      "total test accident images: 200\n",
      "total test dense traffic images: 200\n",
      "total test fire images: 200\n",
      "total test sparse traffic images: 200\n"
     ]
    }
   ],
   "source": [
    "print('total training accident images:', len(os.listdir(accident_train_dir)))\n",
    "print('total training dense traffic images:', len(os.listdir(dense_traffic_train_dir)))\n",
    "print('total training fire images:', len(os.listdir(fire_train_dir)))\n",
    "print('total training sparse traffic images:', len(os.listdir(sparse_traffic_train_dir)))\n",
    "print(\"\\n\")\n",
    "print('total test accident images:', len(os.listdir(accident_test_dir)))\n",
    "print('total test dense traffic images:', len(os.listdir(dense_traffic_test_dir)))\n",
    "print('total test fire images:', len(os.listdir(fire_test_dir)))\n",
    "print('total test sparse traffic images:', len(os.listdir(sparse_traffic_test_dir)))"
   ]
  },
  {
   "cell_type": "code",
   "execution_count": 26,
   "metadata": {},
   "outputs": [
    {
     "name": "stdout",
     "output_type": "stream",
     "text": [
      "validation_accident_len 180\n",
      "validation_dense_traffic_len 180\n",
      "validation_fire_len 180\n",
      "validation_sparse_traffic_len 180\n"
     ]
    }
   ],
   "source": [
    "#Taking a 80:20 split of training and validation data\n",
    "\n",
    "validation_accident_len = int(len(os.listdir(accident_train_dir)) * 0.2)\n",
    "print('validation_accident_len', validation_accident_len)\n",
    "\n",
    "validation_dense_traffic_len = int(len(os.listdir(dense_traffic_train_dir)) * 0.2)\n",
    "print('validation_dense_traffic_len', validation_dense_traffic_len)\n",
    "validation_fire_len = int(len(os.listdir(fire_train_dir)) * 0.2)\n",
    "print('validation_fire_len', validation_fire_len)\n",
    "validation_sparse_traffic_len = int(len(os.listdir(sparse_traffic_train_dir)) * 0.2)\n",
    "print('validation_sparse_traffic_len', validation_sparse_traffic_len)\n",
    "\n",
    "\n"
   ]
  },
  {
   "cell_type": "code",
   "execution_count": 27,
   "metadata": {},
   "outputs": [],
   "source": [
    "# Adding images to validation directory\n",
    "training_accident_files = os.listdir(accident_train_dir)\n",
    "training_dense_traffic_files = os.listdir(dense_traffic_train_dir)\n",
    "training_fire_files = os.listdir(fire_train_dir)\n",
    "training_sparse_traffic_files = os.listdir(sparse_traffic_train_dir)\n",
    "#print( random.sample(training_accident_files,validation_accident_len ))\n",
    "\n",
    "\n",
    "for accident_img_file in random.sample(training_accident_files,validation_accident_len ):\n",
    "    srcFile = os.path.join(accident_train_dir,  accident_img_file)\n",
    "    shutil.move(srcFile,validation_accident_dir )\n",
    "    \n",
    "for dense_traffic_img_file in random.sample(training_dense_traffic_files,validation_dense_traffic_len ):\n",
    "    srcFile = os.path.join(dense_traffic_train_dir,  dense_traffic_img_file)\n",
    "    shutil.move(srcFile,validation_dense_traffic_dir )\n",
    "    \n",
    "for fire_img_file in random.sample(training_fire_files,validation_fire_len ):\n",
    "    srcFile = os.path.join(fire_train_dir ,  fire_img_file)\n",
    "    shutil.move(srcFile,validation_fire_dir )\n",
    "    \n",
    "for sparse_traffic_img_file in random.sample(training_sparse_traffic_files,validation_sparse_traffic_len ):\n",
    "    srcFile = os.path.join(sparse_traffic_train_dir,  sparse_traffic_img_file)\n",
    "    shutil.move(srcFile,validation_sparse_traffic_dir )  \n"
   ]
  },
  {
   "cell_type": "code",
   "execution_count": 28,
   "metadata": {
    "scrolled": true
   },
   "outputs": [
    {
     "name": "stdout",
     "output_type": "stream",
     "text": [
      "total validation accident images: 180\n",
      "total validation dense traffic images: 180\n",
      "total validation fire images: 180\n",
      "total validation sparse traffic images: 180\n"
     ]
    }
   ],
   "source": [
    "print('total validation accident images:', len(os.listdir(validation_accident_dir)))\n",
    "print('total validation dense traffic images:', len(os.listdir(validation_dense_traffic_dir)))\n",
    "print('total validation fire images:', len(os.listdir(validation_fire_dir)))\n",
    "print('total validation sparse traffic images:', len(os.listdir(validation_sparse_traffic_dir)))"
   ]
  },
  {
   "cell_type": "markdown",
   "metadata": {},
   "source": [
    "## Building our network\n"
   ]
  },
  {
   "cell_type": "code",
   "execution_count": 29,
   "metadata": {},
   "outputs": [],
   "source": [
    "from keras import layers\n",
    "from keras import models\n",
    "\n",
    "model = models.Sequential()\n",
    "model.add(layers.Flatten(input_shape=(150, 150, 3)))\n",
    "model.add(layers.Dense(64, activation='tanh'))\n",
    "model.add(layers.Dense(128, activation='tanh'))\n",
    "model.add(layers.Dense(512, activation='tanh'))\n",
    "model.add(layers.Dense(4, activation='softmax'))"
   ]
  },
  {
   "cell_type": "code",
   "execution_count": 30,
   "metadata": {},
   "outputs": [
    {
     "name": "stdout",
     "output_type": "stream",
     "text": [
      "Model: \"sequential_3\"\n",
      "_________________________________________________________________\n",
      "Layer (type)                 Output Shape              Param #   \n",
      "=================================================================\n",
      "flatten_3 (Flatten)          (None, 67500)             0         \n",
      "_________________________________________________________________\n",
      "dense_9 (Dense)              (None, 64)                4320064   \n",
      "_________________________________________________________________\n",
      "dense_10 (Dense)             (None, 128)               8320      \n",
      "_________________________________________________________________\n",
      "dense_11 (Dense)             (None, 512)               66048     \n",
      "_________________________________________________________________\n",
      "dense_12 (Dense)             (None, 4)                 2052      \n",
      "=================================================================\n",
      "Total params: 4,396,484\n",
      "Trainable params: 4,396,484\n",
      "Non-trainable params: 0\n",
      "_________________________________________________________________\n"
     ]
    }
   ],
   "source": [
    "model.summary()"
   ]
  },
  {
   "cell_type": "markdown",
   "metadata": {},
   "source": [
    "Compilation, loss function and optimiser selection"
   ]
  },
  {
   "cell_type": "code",
   "execution_count": 31,
   "metadata": {},
   "outputs": [],
   "source": [
    "from keras import optimizers\n",
    "\n",
    "model.compile(optimizer=optimizers.adam(lr=1e-4),\n",
    "              loss='categorical_crossentropy',\n",
    "              metrics=['accuracy'])"
   ]
  },
  {
   "cell_type": "markdown",
   "metadata": {},
   "source": [
    "## Data preprocessing\n"
   ]
  },
  {
   "cell_type": "code",
   "execution_count": 32,
   "metadata": {},
   "outputs": [
    {
     "name": "stdout",
     "output_type": "stream",
     "text": [
      "Found 2880 images belonging to 4 classes.\n",
      "Found 720 images belonging to 4 classes.\n"
     ]
    }
   ],
   "source": [
    "from keras.preprocessing.image import ImageDataGenerator\n",
    "\n",
    "train_datagen = ImageDataGenerator(\n",
    "    rescale=1./255,\n",
    "    zoom_range=0.2,\n",
    "    horizontal_flip=True)\n",
    "validate_datagen = ImageDataGenerator(\n",
    "    rescale=1./255,\n",
    "    zoom_range=0.2,\n",
    "    horizontal_flip=True)\n",
    "\n",
    "train_generator = train_datagen.flow_from_directory(\n",
    "        # This is the target directory\n",
    "        train_dir,\n",
    "        # All images will be resized to 150x150\n",
    "        target_size=(150, 150),\n",
    "        batch_size=30,\n",
    "        class_mode='categorical')\n",
    "\n",
    "validation_generator = validate_datagen.flow_from_directory(\n",
    "        validation_dir,\n",
    "        target_size=(150, 150),\n",
    "        batch_size=30,\n",
    "        class_mode='categorical')"
   ]
  },
  {
   "cell_type": "code",
   "execution_count": 33,
   "metadata": {
    "scrolled": false
   },
   "outputs": [
    {
     "name": "stdout",
     "output_type": "stream",
     "text": [
      "data batch shape: (30, 150, 150, 3)\n",
      "labels batch shape: (30, 4)\n"
     ]
    }
   ],
   "source": [
    "\n",
    "for data_batch, labels_batch in train_generator:\n",
    "    print('data batch shape:', data_batch.shape)\n",
    "    print('labels batch shape:', labels_batch.shape)\n",
    "    break"
   ]
  },
  {
   "cell_type": "markdown",
   "metadata": {},
   "source": [
    "## Model Fitting"
   ]
  },
  {
   "cell_type": "code",
   "execution_count": 34,
   "metadata": {},
   "outputs": [
    {
     "name": "stdout",
     "output_type": "stream",
     "text": [
      "Epoch 1/30\n",
      "96/96 [==============================] - 20s 211ms/step - loss: 1.3691 - accuracy: 0.3292 - val_loss: 1.2172 - val_accuracy: 0.4347\n",
      "Epoch 2/30\n",
      "96/96 [==============================] - 17s 179ms/step - loss: 1.2854 - accuracy: 0.3896 - val_loss: 1.3463 - val_accuracy: 0.3361\n",
      "Epoch 3/30\n",
      "96/96 [==============================] - 17s 175ms/step - loss: 1.2602 - accuracy: 0.4118 - val_loss: 1.1890 - val_accuracy: 0.3778\n",
      "Epoch 4/30\n",
      "96/96 [==============================] - 16s 169ms/step - loss: 1.2495 - accuracy: 0.4215 - val_loss: 1.2240 - val_accuracy: 0.3694\n",
      "Epoch 5/30\n",
      "96/96 [==============================] - 17s 174ms/step - loss: 1.2247 - accuracy: 0.4090 - val_loss: 1.2136 - val_accuracy: 0.4375\n",
      "Epoch 6/30\n",
      "96/96 [==============================] - 17s 174ms/step - loss: 1.2314 - accuracy: 0.4125 - val_loss: 1.2137 - val_accuracy: 0.3917\n",
      "Epoch 7/30\n",
      "96/96 [==============================] - 17s 172ms/step - loss: 1.2296 - accuracy: 0.4201 - val_loss: 1.1701 - val_accuracy: 0.4417\n",
      "Epoch 8/30\n",
      "96/96 [==============================] - 17s 172ms/step - loss: 1.2080 - accuracy: 0.4372 - val_loss: 1.2869 - val_accuracy: 0.4500\n",
      "Epoch 9/30\n",
      "96/96 [==============================] - 16s 167ms/step - loss: 1.2111 - accuracy: 0.4514 - val_loss: 1.0271 - val_accuracy: 0.4653\n",
      "Epoch 10/30\n",
      "96/96 [==============================] - 16s 168ms/step - loss: 1.2128 - accuracy: 0.4181 - val_loss: 1.2399 - val_accuracy: 0.4000\n",
      "Epoch 11/30\n",
      "96/96 [==============================] - 17s 180ms/step - loss: 1.2070 - accuracy: 0.4340 - val_loss: 1.2483 - val_accuracy: 0.4403\n",
      "Epoch 12/30\n",
      "96/96 [==============================] - 17s 175ms/step - loss: 1.1874 - accuracy: 0.4455 - val_loss: 1.2048 - val_accuracy: 0.4403\n",
      "Epoch 13/30\n",
      "96/96 [==============================] - 17s 178ms/step - loss: 1.1966 - accuracy: 0.4399 - val_loss: 1.1426 - val_accuracy: 0.4208\n",
      "Epoch 14/30\n",
      "96/96 [==============================] - 17s 175ms/step - loss: 1.1946 - accuracy: 0.4479 - val_loss: 1.3840 - val_accuracy: 0.4000\n",
      "Epoch 15/30\n",
      "96/96 [==============================] - 16s 170ms/step - loss: 1.2194 - accuracy: 0.4274 - val_loss: 1.1248 - val_accuracy: 0.4431\n",
      "Epoch 16/30\n",
      "96/96 [==============================] - 17s 179ms/step - loss: 1.1863 - accuracy: 0.4458 - val_loss: 1.1585 - val_accuracy: 0.4153\n",
      "Epoch 17/30\n",
      "96/96 [==============================] - 18s 189ms/step - loss: 1.1780 - accuracy: 0.4646 - val_loss: 1.3920 - val_accuracy: 0.3833\n",
      "Epoch 18/30\n",
      "96/96 [==============================] - 17s 174ms/step - loss: 1.2182 - accuracy: 0.4250 - val_loss: 1.0885 - val_accuracy: 0.4319\n",
      "Epoch 19/30\n",
      "96/96 [==============================] - 19s 198ms/step - loss: 1.1833 - accuracy: 0.4622 - val_loss: 1.2883 - val_accuracy: 0.3667\n",
      "Epoch 20/30\n",
      "96/96 [==============================] - 17s 174ms/step - loss: 1.1663 - accuracy: 0.4500 - val_loss: 1.1985 - val_accuracy: 0.4514\n",
      "Epoch 21/30\n",
      "96/96 [==============================] - 18s 182ms/step - loss: 1.1619 - accuracy: 0.4431 - val_loss: 1.1806 - val_accuracy: 0.4514\n",
      "Epoch 22/30\n",
      "96/96 [==============================] - 18s 188ms/step - loss: 1.1732 - accuracy: 0.4594 - val_loss: 1.1937 - val_accuracy: 0.4431\n",
      "Epoch 23/30\n",
      "96/96 [==============================] - 21s 215ms/step - loss: 1.1680 - accuracy: 0.4639 - val_loss: 1.1524 - val_accuracy: 0.3931\n",
      "Epoch 24/30\n",
      "96/96 [==============================] - 23s 238ms/step - loss: 1.1684 - accuracy: 0.4691 - val_loss: 1.3485 - val_accuracy: 0.4611\n",
      "Epoch 25/30\n",
      "96/96 [==============================] - 17s 179ms/step - loss: 1.1469 - accuracy: 0.4795 - val_loss: 1.0110 - val_accuracy: 0.4389\n",
      "Epoch 26/30\n",
      "96/96 [==============================] - 17s 180ms/step - loss: 1.1839 - accuracy: 0.4264 - val_loss: 1.2488 - val_accuracy: 0.4542\n",
      "Epoch 27/30\n",
      "96/96 [==============================] - 18s 188ms/step - loss: 1.1349 - accuracy: 0.4833 - val_loss: 1.1348 - val_accuracy: 0.4722\n",
      "Epoch 28/30\n",
      "96/96 [==============================] - 17s 178ms/step - loss: 1.1543 - accuracy: 0.4851 - val_loss: 1.1430 - val_accuracy: 0.4167\n",
      "Epoch 29/30\n",
      "96/96 [==============================] - 16s 171ms/step - loss: 1.1491 - accuracy: 0.4809 - val_loss: 1.2471 - val_accuracy: 0.4472\n",
      "Epoch 30/30\n",
      "96/96 [==============================] - 17s 182ms/step - loss: 1.1461 - accuracy: 0.4816 - val_loss: 1.2948 - val_accuracy: 0.4625\n"
     ]
    }
   ],
   "source": [
    "history = model.fit_generator(\n",
    "      train_generator,\n",
    "      steps_per_epoch=96,\n",
    "      epochs=30,\n",
    "      validation_data=validation_generator,\n",
    "      validation_steps=24)"
   ]
  },
  {
   "cell_type": "code",
   "execution_count": 35,
   "metadata": {},
   "outputs": [],
   "source": [
    "model.save('PredictingTrafficConditionsHazards_convLayerIncrease.h5')"
   ]
  },
  {
   "cell_type": "markdown",
   "metadata": {},
   "source": [
    "## Plotting Training and validation Accuracy and loss"
   ]
  },
  {
   "cell_type": "code",
   "execution_count": 36,
   "metadata": {},
   "outputs": [
    {
     "name": "stdout",
     "output_type": "stream",
     "text": [
      "Found 800 images belonging to 4 classes.\n"
     ]
    }
   ],
   "source": [
    "tester_datagen = ImageDataGenerator(rescale=1./255)\n",
    "\n",
    "test_generator = tester_datagen.flow_from_directory(\n",
    "        test_dir,\n",
    "        target_size=(150, 150),\n",
    "        batch_size=1,\n",
    "        class_mode='categorical',\n",
    "        shuffle = 'False')\n",
    "\n",
    "results = model.evaluate_generator(test_generator,workers=6,steps=800 )"
   ]
  },
  {
   "cell_type": "code",
   "execution_count": 37,
   "metadata": {
    "scrolled": true
   },
   "outputs": [
    {
     "name": "stdout",
     "output_type": "stream",
     "text": [
      "[0.9709758758544922, 0.46000000834465027]\n"
     ]
    }
   ],
   "source": [
    "print(results)"
   ]
  },
  {
   "cell_type": "code",
   "execution_count": 38,
   "metadata": {},
   "outputs": [],
   "source": [
    "model.save('PredictingTrafficConditionsHazards_2.h5')"
   ]
  }
 ],
 "metadata": {
  "kernelspec": {
   "display_name": "Python 3",
   "language": "python",
   "name": "python3"
  },
  "language_info": {
   "codemirror_mode": {
    "name": "ipython",
    "version": 3
   },
   "file_extension": ".py",
   "mimetype": "text/x-python",
   "name": "python",
   "nbconvert_exporter": "python",
   "pygments_lexer": "ipython3",
   "version": "3.7.4"
  }
 },
 "nbformat": 4,
 "nbformat_minor": 2
}
